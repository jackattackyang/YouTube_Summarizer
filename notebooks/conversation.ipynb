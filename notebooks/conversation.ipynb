{
 "cells": [
  {
   "cell_type": "code",
   "execution_count": 294,
   "metadata": {},
   "outputs": [
    {
     "name": "stdout",
     "output_type": "stream",
     "text": [
      "The autoreload extension is already loaded. To reload it, use:\n",
      "  %reload_ext autoreload\n"
     ]
    }
   ],
   "source": [
    "%load_ext autoreload\n",
    "%autoreload 2\n",
    "from IPython.core.interactiveshell import InteractiveShell\n",
    "InteractiveShell.ast_node_interactivity = \"all\"\n",
    "\n",
    "from utils.helpers import md"
   ]
  },
  {
   "cell_type": "code",
   "execution_count": null,
   "metadata": {},
   "outputs": [],
   "source": [
    "import requests\n",
    "\n",
    "BACKEND_URL = \"http://127.0.0.1:5001/\"\n",
    "youtube_url = \"https://www.youtube.com/watch?v=QlUcyaXiXPE&ab_channel=MorningBrewDaily\"\n",
    "\n",
    "response = requests.post(BACKEND_URL, json={\"youtube_url\": youtube_url})\n",
    "result = response.json()\n",
    "result"
   ]
  },
  {
   "cell_type": "code",
   "execution_count": 180,
   "metadata": {},
   "outputs": [
    {
     "name": "stderr",
     "output_type": "stream",
     "text": [
      "2024-12-25 14:49:33,452 - INFO - file_cache is only supported with oauth2client<4.0.0\n",
      "2024-12-25 14:49:34,437 - INFO - Language: English\n",
      "2024-12-25 14:49:34,438 - INFO - Language: en\n",
      "2024-12-25 14:49:34,439 - INFO - Generated automatically: False\n",
      "2024-12-25 14:49:34,440 - INFO - Translation available: True\n",
      "2024-12-25 14:49:34,441 - INFO - -----\n",
      "2024-12-25 14:49:34,442 - INFO - Found manual English transcript\n"
     ]
    }
   ],
   "source": [
    "from data.get_youtube_data import YouTubeDataFetcher\n",
    "\n",
    "youtube_url = \"https://www.youtube.com/watch?v=QlUcyaXiXPE&ab_channel=MorningBrewDaily\"\n",
    "youtube = YouTubeDataFetcher()\n",
    "meta_data = youtube.get_meta_data(youtube_url)"
   ]
  },
  {
   "cell_type": "code",
   "execution_count": 310,
   "metadata": {},
   "outputs": [
    {
     "data": {
      "text/plain": [
       "MetaData(title='Tech CEOs Charm Trump With Big Bucks', channel_name='Morning Brew Daily', publish_date='2024-12-16', chapters=['00:00 - Patterson bookstore bonus extravaganza', '2:15 - Tech CEOs donate to Trump', '6:40 - Broadcom quietly cashin’ in', '10:45 - What is up with drones??', '15:10 - Trump wants to end Daylight Saving Time', '18:30 - Hot Wheels lead the way', '21:30 - Week Ahead'], transcript={'transcript': [{'text': 'Good Morning Brew Daily Show.', 'start': 0.066, 'duration': 2.303}, {'text': \"I'm Neal Freyman. And I'm Toby Howell.\", 'start': 2.369, 'duration': 1.735}, {'text': \"today. It's not Barbie.\", 'start': 4.104, 'duration': 1.434}, {'text': \"It's not Lego.\", 'start': 5.538, 'duration': 1.035}, {'text': 'The best selling toy in the world\\nis. Yeah.', 'start': 6.573, 'duration': 3.003}, {'text': \"You're going to have to wait for that\\nthen. It's a bird.\", 'start': 9.576, 'duration': 2.202}, {'text': \"It's a plane.\", 'start': 11.778, 'duration': 0.634}, {'text': \"No, it's a drone hovering over new Jersey.\", 'start': 12.412, 'duration': 2.703}, {'text': \"But in reality, it's probably a plane.\", 'start': 15.115, 'duration': 1.902}, {'text': \"It's Monday, December 16th.\", 'start': 17.017, 'duration': 1.968}, {'text': \"Let's ride.\", 'start': 18.985, 'duration': 3.003}, {'text': 'The holiday season is', 'start': 26.426, 'duration': 1.201}, {'text': 'full of heartwarming stories of generosity\\nand giving back.', 'start': 27.627, 'duration': 3.137}, {'text': 'And I got another one for you right here\\nlast week.', 'start': 30.764, 'duration': 2.769}, {'text': 'The extremely popular author\\nJames Patterson handed out $500 holiday', 'start': 33.533, 'duration': 4.805}, {'text': 'bonuses to 600 employees at independent\\nbookstores across the country.', 'start': 38.338, 'duration': 4.404}, {'text': \"It's a tradition he started in 2015,\\ninviting thousands of booksellers\", 'start': 42.909, 'duration': 3.904}, {'text': 'to apply and picking hundreds of winners\\nfrom the nominees.', 'start': 46.813, 'duration': 3.003}, {'text': 'In a statement, Patterson said booksellers\\nsave lives, period.', 'start': 50.016, 'duration': 3.871}, {'text': \"I'm happy to be able to acknowledge them\\nand all their hard work\", 'start': 54.187, 'duration': 2.736}, {'text': 'this holiday season.\\nI mean, it does warm the heart.', 'start': 56.923, 'duration': 2.936}, {'text': 'James Patterson is also a juggernaut.', 'start': 59.859, 'duration': 2.836}, {'text': 'He sold more than 425\\nmillion copies of his book.', 'start': 62.695, 'duration': 3.304}, {'text': 'His total income over the last decade\\nis estimated at $700 million.', 'start': 66.099, 'duration': 4.237}, {'text': 'That being said, his books', 'start': 70.537, 'duration': 1.501}, {'text': 'have been described as a literary\\nequivalent of Kentucky Fried Chicken,', 'start': 72.038, 'duration': 3.704}, {'text': \"and he's often been criticized\\nfor coauthoring a lot of his stories.\", 'start': 75.875, 'duration': 3.17}, {'text': 'But a lot of people enjoy Kentucky\\nFried Chicken Meal,', 'start': 79.045, 'duration': 3.303}, {'text': 'and it means some of his profits\\ngo towards these independent booksellers.', 'start': 82.515, 'duration': 4.171}, {'text': 'Sometimes you just have to tip\\nyour cap and say, that is a good deed.', 'start': 86.886, 'duration': 3.404}, {'text': 'Now, a word from our sponsor,\\nthe Range Rover Sport.', 'start': 90.824, 'duration': 4.137}, {'text': \"That's right Neil, we're\\nfinishing off the year in style.\", 'start': 94.961, 'duration': 3.237}, {'text': 'Style is a great word for it because\\nthe new Range Rover Sport oozes class.', 'start': 98.198, 'duration': 4.037}, {'text': 'Each model offers', 'start': 102.235, 'duration': 1.068}, {'text': 'a sophisticated take on sporting luxury,\\nso you can cruise in style', 'start': 103.303, 'duration': 3.837}, {'text': 'but also get a little adventurous\\nwith its off roading capabilities.', 'start': 107.173, 'duration': 3.47}, {'text': \"It's a dual threat Neal\", 'start': 110.643, 'duration': 1.268}, {'text': 'focused on road performance,\\nbut with world famous off road capability.', 'start': 111.911, 'duration': 4.605}, {'text': \"It's the fire and ice of cars.\", 'start': 116.516, 'duration': 1.969}, {'text': 'The Toby and Neil of cars.', 'start': 118.485, 'duration': 1.768}, {'text': \"Okay, but who's the off road power\\nand who's the on road cruising?\", 'start': 120.253, 'duration': 3.637}, {'text': \"I think you're giving some off road vibes\\nthese days.\", 'start': 123.923, 'duration': 2.937}, {'text': 'Could be the 5:00 shadow.', 'start': 126.86, 'duration': 1.835}, {'text': 'If you want a taste of the finer things\\nand the wild side, build', 'start': 128.695, 'duration': 3.17}, {'text': 'your Range Rover Sport at Land Rover\\nusa.com.', 'start': 131.865, 'duration': 3.27}, {'text': \"Today, America's\\ntop tech moguls are marching one\", 'start': 135.135, 'duration': 4.17}, {'text': 'by one to Mar a Lago, a pilgrimage\\nthey hope will repair a rocky relationship', 'start': 139.305, 'duration': 4.905}, {'text': 'with president elect Trump and curry favor\\nwith the upcoming administration.', 'start': 144.21, 'duration': 4.038}, {'text': \"Last week,\\nit was Google's Sundar Pichai and Apple's\", 'start': 148.548, 'duration': 2.703}, {'text': 'Tim Cook making the trek from California\\nto Palm Beach.', 'start': 151.251, 'duration': 3.103}, {'text': \"Before Thanksgiving, it was Meta's\\nMark Zuckerberg, and this week,\", 'start': 154.521, 'duration': 3.336}, {'text': 'Amazon founder\\nJeff Bezos will have dinner with Trump.', 'start': 157.857, 'duration': 3.003}, {'text': 'Meanwhile, meta, Amazon and OpenAI\\nSam Altman are writing checks to Trump,', 'start': 161.06, 'duration': 4.638}, {'text': 'with all three saying', 'start': 165.698, 'duration': 1.101}, {'text': 'last week they would contribute $1 million\\nto his inaugural fund.', 'start': 166.799, 'duration': 3.771}, {'text': 'For some historical context,\\nit is not unusual for CEOs to cozy up', 'start': 170.837, 'duration': 3.97}, {'text': 'to an incoming administration.', 'start': 174.807, 'duration': 1.836}, {'text': 'The white House sets policies that will\\nhave major impacts on their companies,', 'start': 176.643, 'duration': 3.603}, {'text': 'and they want to make sure\\ntheir interests are being heard.', 'start': 180.413, 'duration': 2.603}, {'text': 'This has been going on for decades,', 'start': 183.016, 'duration': 2.202}, {'text': 'but for the tech industry in particular,\\nit is a striking reversal.', 'start': 185.218, 'duration': 4.171}, {'text': 'Silicon Valley and Trump\\nwere no fans of each other', 'start': 189.389, 'duration': 3.103}, {'text': 'during his first stint in the white House,\\nand shortly thereafter.', 'start': 192.492, 'duration': 3.003}, {'text': \"It's certainly a sign of the times\\nthat Salesforce CEO Marc Benioff, who\", 'start': 195.595, 'duration': 3.67}, {'text': 'a few years ago had been\\na major Democratic supporter, said', 'start': 199.265, 'duration': 3.07}, {'text': 'last week it was a time of great promise\\nfor our nation.', 'start': 202.335, 'duration': 3.27}, {'text': 'Yeah.', 'start': 205.805, 'duration': 0.534}, {'text': 'After keeping the Trump administration\\nor the Trump campaign out', 'start': 206.339, 'duration': 3.937}, {'text': \"a little bit of an arm's length\\nduring the campaign season,\", 'start': 210.276, 'duration': 2.703}, {'text': 'a lot of these CEOs are saying,\\nyou know what?', 'start': 212.979, 'duration': 2.169}, {'text': 'I do not want to risk\\nbeing on bad terms with Trump.', 'start': 215.148, 'duration': 2.602}, {'text': \"Let's go speak with him face to face.\", 'start': 217.75, 'duration': 1.869}, {'text': \"Let's go to Mar-A-Lago\", 'start': 219.619, 'duration': 1.068}, {'text': \"and just see what he's about and see\\nif we can create this relationship.\", 'start': 220.687, 'duration': 3.27}, {'text': 'The thing about some of these\\ninaugural fund donations, too, is', 'start': 224.157, 'duration': 3.47}, {'text': 'what it does is guarantee you\\nsome face time with Trump and Vance,', 'start': 227.66, 'duration': 3.237}, {'text': 'because donors to the,\\ninauguration fund do', 'start': 230.897, 'duration': 4.171}, {'text': 'get invitation to inauguration ball access\\nto a candlelit dinner with the Trumps.', 'start': 235.068, 'duration': 4.371}, {'text': 'And then, they also have a access\\nto reception with the cabinet picks.', 'start': 239.439, 'duration': 3.904}, {'text': 'So what you are seeing is paying $1\\nmillion, saying, like,', 'start': 243.343, 'duration': 3.236}, {'text': 'I do want to have more opportunities\\nto have FaceTime with you.', 'start': 246.579, 'duration': 3.003}, {'text': 'And also\\none thing about inaugural committees', 'start': 249.782, 'duration': 3.17}, {'text': 'is that they are pretty low\\nstakes in terms of donations.', 'start': 252.952, 'duration': 3.37}, {'text': 'They are seen as a very normal thing\\nfor companies to do, to seek favor.', 'start': 256.322, 'duration': 3.771}, {'text': 'There is a little bit\\nof a guise of patriotism attached', 'start': 260.627, 'duration': 2.502}, {'text': 'to it as well, without being seen\\nas like overly partizan.', 'start': 263.129, 'duration': 3.303}, {'text': \"So I wouldn't read too much into the fact\\nthat they're all donating exactly\", 'start': 266.432, 'duration': 3.437}, {'text': '$1 million, because it does\\ngive you access to the events,', 'start': 269.869, 'duration': 2.636}, {'text': 'and it is a rather normal thing\\nto do to an incoming administration.', 'start': 272.505, 'duration': 3.871}, {'text': 'I want to talk about one of these,\\ntech moguls that is going to Mar-A-Lago', 'start': 276.376, 'duration': 4.771}, {'text': 'this week, Jeff Bezos,\\nbecause I think he is a good example', 'start': 281.18, 'duration': 3.404}, {'text': 'of what can happen when the relationship\\nwith the president goes sour.', 'start': 284.584, 'duration': 3.77}, {'text': \"During the first administration, Trump's\\nfirst administration, he repeatedly bashed\", 'start': 288.354, 'duration': 4.538}, {'text': 'Jeff Bezos, who owns the Washington Post,\\nfor negative coverage.', 'start': 292.892, 'duration': 3.57}, {'text': 'And that did translate\\nto the business world.', 'start': 296.462, 'duration': 2.203}, {'text': 'You know, Amazon contends', 'start': 298.665, 'duration': 1.601}, {'text': 'that they lost out on a $10 billion\\ncloud computing contract', 'start': 300.266, 'duration': 4.204}, {'text': 'with the federal government to Microsoft\\nbecause Trump did not like Bezos.', 'start': 304.637, 'duration': 3.737}, {'text': 'So that was a big business impact,', 'start': 308.374, 'duration': 3.07}, {'text': 'for Amazon\\nbecause of that rocky relationship.', 'start': 311.444, 'duration': 3.003}, {'text': \"So now you're seeing Bezos\\nmake the trek to Mar-A-Lago.\", 'start': 314.514, 'duration': 3.503}, {'text': 'He moved to South Florida.', 'start': 318.117, 'duration': 1.435}, {'text': \"Reportedly, he's become friends with Jared\\nand Ivanka down there,\", 'start': 319.552, 'duration': 3.57}, {'text': \"and he's hoping to make them\", 'start': 323.122, 'duration': 1.835}, {'text': \"not make amends because he probably thinks\\nhe didn't do anything wrong.\", 'start': 324.957, 'duration': 2.803}, {'text': 'But, trying to trying to reestablish\\nthat relationship', 'start': 327.76, 'duration': 3.938}, {'text': 'because the one thing\\nall these guys have in common', 'start': 331.698, 'duration': 2.435}, {'text': \"is they're catching up to Elon Musk.\", 'start': 334.133, 'duration': 1.468}, {'text': 'Elon Musk already\\nhas that bromance with Trump,', 'start': 335.601, 'duration': 2.937}, {'text': 'and there is the potential\\nthat Trump or Elon Musk', 'start': 338.538, 'duration': 3.103}, {'text': 'could use that power to cut them out\\nof lucrative business deals.', 'start': 341.641, 'duration': 3.27}, {'text': 'Right.', 'start': 344.944, 'duration': 0.234}, {'text': 'He is the other power player\\nthat CEOs are also trying to figure out', 'start': 345.178, 'duration': 3.27}, {'text': 'how to navigate the relationship,\\nbecause a lot of those CEOs could be wary', 'start': 348.448, 'duration': 4.304}, {'text': 'that Musk could just punish his business\\nrivals, could push them to the side.', 'start': 352.752, 'duration': 4.338}, {'text': 'Sam Altman is obviously a big\\none of those.', 'start': 357.09, 'duration': 2.102}, {'text': 'Elon Musk has repeatedly sued OpenAI,\\nsaying that it for so,', 'start': 359.192, 'duration': 4.538}, {'text': 'or it went back on its promise\\nto be this, open company.', 'start': 363.863, 'duration': 4.037}, {'text': 'And it now is a for profit entity.', 'start': 367.9, 'duration': 2.203}, {'text': 'Altman has said that he hopes\\nor he thinks Elon will do the right thing', 'start': 370.103, 'duration': 3.67}, {'text': 'because he said it would be,', 'start': 373.773, 'duration': 0.934}, {'text': 'quote, profoundly un-American\\nto use political power to the degree', 'start': 374.707, 'duration': 3.07}, {'text': 'that Elon has it to hurt your competitors\\nand advantage your own businesses.', 'start': 377.777, 'duration': 3.637}, {'text': 'So, I mean, that is that could be\\na very optimistic look at the situation.', 'start': 381.414, 'duration': 4.471}, {'text': 'But, the reality is that Elon now\\nhas a ton of power in the administration.', 'start': 385.885, 'duration': 4.104}, {'text': 'He could wield it one way or the other.', 'start': 390.089, 'duration': 2.269}, {'text': 'And CEOs are trying to figure out', 'start': 392.358, 'duration': 1.802}, {'text': 'how to navigate him\\nas well as navigate Donald Trump.', 'start': 394.16, 'duration': 3.103}, {'text': 'There is a new entrant into the 13\\nfigure club.', 'start': 398.097, 'duration': 3.404}, {'text': 'Chipmaker Broadcom.', 'start': 401.534, 'duration': 1.501}, {'text': 'Pull up a chair to sit at the $1 trillion\\nmarket cap table just before the weekend.', 'start': 403.035, 'duration': 4.872}, {'text': 'After reporting a breakout fourth quarter\\nearnings, the stock jumped 24%', 'start': 408.207, 'duration': 4.638}, {'text': 'to creep into uncharted territory\\nand is now doubled in value this year.', 'start': 412.845, 'duration': 4.305}, {'text': \"Unsurprisingly, it's been AI that has\\npushed Broadcom into the big leagues.\", 'start': 417.583, 'duration': 4.205}, {'text': 'It supplies advanced AI hardware\\nto big tech companies much like Nvidia,', 'start': 422.088, 'duration': 4.137}, {'text': 'but also has a robust software\\nbusiness as well.', 'start': 426.225, 'duration': 2.97}, {'text': 'AI revenue is up 220% this year.', 'start': 429.695, 'duration': 2.803}, {'text': \"And it's got to the point\\nthat when Broadcom does well, shares\", 'start': 432.498, 'duration': 3.037}, {'text': 'of Nvidia and competitors\\nlike AMD shrink on fears that incumbent', 'start': 435.535, 'duration': 4.271}, {'text': 'AI stalwarts could lose\\nmarket share to the surging Broadcom.', 'start': 439.839, 'duration': 3.637}, {'text': \"Looking forward, the company's CEO, Hock\\nTan, expects its AI opportunity to reach\", 'start': 443.776, 'duration': 4.405}, {'text': '$90 billion by 2027, powered\\nby what it calls Hyperscaler customers,', 'start': 448.181, 'duration': 5.505}, {'text': 'which are those companies like\\nMeta and Google that require large scale', 'start': 453.686, 'duration': 3.27}, {'text': 'data centers?', 'start': 456.989, 'duration': 1.101}, {'text': 'You know,', 'start': 458.09, 'duration': 0.267}, {'text': 'Broadcom is not a name that a lot of\\npeople know off the top of their heads,', 'start': 458.357, 'duration': 4.038}, {'text': 'but they will soon.', 'start': 462.395, 'duration': 0.901}, {'text': 'The last time I will say I thought about\\nBroadcom was six years ago in 2018.', 'start': 463.296, 'duration': 6.039}, {'text': 'And that was when Broadcom\\ntried to buy Qualcomm for $120 billion.', 'start': 469.502, 'duration': 5.339}, {'text': 'It would be one of the biggest, if not\\nthe biggest tech acquisitions of all time.', 'start': 475.007, 'duration': 4.405}, {'text': 'Trump speaking of Trump,\\nhe blocked that deal from going forward', 'start': 479.612, 'duration': 3.337}, {'text': 'because at the time\\nBroadcom was based in Singapore', 'start': 482.949, 'duration': 3.036}, {'text': 'and it was blocked over\\nnational security concerns.', 'start': 485.985, 'duration': 3.504}, {'text': 'Turns out Broadcom did not name Qualcomm\\nat all.', 'start': 489.655, 'duration': 3.37}, {'text': 'Since 2018, Broadcom shares are up 760%.', 'start': 493.025, 'duration': 4.171}, {'text': \"Qualcomm's up 165% and the S&P 500 is up\\n119%.\", 'start': 497.296, 'duration': 5.906}, {'text': 'So Broadcom easily\\noutpacing the other guys.', 'start': 503.202, 'duration': 3.57}, {'text': \"And that's really because of this\\nAI revolution with ChatGPT\", 'start': 507.073, 'duration': 3.403}, {'text': 'in 2022 sales of its\\nAI chips are up a lot.', 'start': 510.61, 'duration': 3.47}, {'text': 'Sales of its non AI chips are down.', 'start': 514.113, 'duration': 2.302}, {'text': 'So without AI Broadcom is probably looking\\nmore like Qualcomm.', 'start': 516.415, 'duration': 4.138}, {'text': \"And now it's in the $1 trillion club.\", 'start': 520.553, 'duration': 1.935}, {'text': 'That being said though, its CEO Hock\\nTan loves to take these big swings.', 'start': 522.488, 'duration': 4.171}, {'text': 'I mean it tried to swing acquire Qualcomm\\nfor the biggest tech acquisition ever.', 'start': 526.659, 'duration': 5.172}, {'text': \"But it's also recently bought VMware\\nfor $61 billion.\", 'start': 531.831, 'duration': 3.737}, {'text': 'VMware helps with, server virtualization.', 'start': 535.568, 'duration': 3.07}, {'text': \"They also that VMware deal only trails\\nMicrosoft's acquisition of Activision\", 'start': 538.771, 'duration': 4.571}, {'text': \"Blizzard and Dell's, Dell purchase\\nas the biggest tech deals ever.\", 'start': 543.342, 'duration': 5.706}, {'text': 'It also agreed to buy this software\\nvendor in 2018.', 'start': 549.048, 'duration': 4.338}, {'text': 'For $19 billion.', 'start': 553.386, 'duration': 1.668}, {'text': 'It had another acquisition of a\\nsecurity company for $10 billion in 2019.', 'start': 555.054, 'duration': 4.071}, {'text': 'So Hock Tan\\ndoes like going on these shopping sprees.', 'start': 559.125, 'duration': 3.537}, {'text': 'He does like to acquire\\nas a means to grow Broadcom.', 'start': 562.662, 'duration': 3.47}, {'text': 'But Broadcom is a little bit different', 'start': 566.265, 'duration': 1.935}, {'text': 'than Nvidia in the sense\\nthat Nvidia sells GPUs.', 'start': 568.2, 'duration': 3.771}, {'text': 'Graphic processing units.', 'start': 571.971, 'duration': 2.569}, {'text': 'Broadcom\\ncalls its version of GPUs exposed,', 'start': 574.54, 'duration': 3.137}, {'text': 'which are just slightly different.', 'start': 577.677, 'duration': 1.468}, {'text': 'They are a little bit more advanced.', 'start': 579.145, 'duration': 2.335}, {'text': \"These chips aren't\\nfor just your everyday company.\", 'start': 581.48, 'duration': 2.503}, {'text': 'They are only for the companies\\nthat really want to push to the edge of,', 'start': 583.983, 'duration': 3.804}, {'text': 'efficiency and power.', 'start': 587.853, 'duration': 1.702}, {'text': '20, 30% faster, 20, 30% less power.', 'start': 589.555, 'duration': 3.437}, {'text': 'So you have to be a Google.\\nYou have to be a matter.', 'start': 592.992, 'duration': 1.802}, {'text': 'You have to be a Microsoft\\nto actually find use in that.', 'start': 594.794, 'duration': 3.403}, {'text': 'But luckily those companies are spending\\nvery, very big on AI.', 'start': 598.397, 'duration': 3.404}, {'text': 'And so Broadcom\\nis in a pretty solid position right now.', 'start': 601.801, 'duration': 2.602}, {'text': \"They're spending $59 billion\\nin the last quarter alone.\", 'start': 604.403, 'duration': 3.704}, {'text': \"That's four companies alphabet Amazon\", 'start': 608.107, 'duration': 1.802}, {'text': 'meta and Microsoft\\nspent $59 billion on capital expenditures.', 'start': 609.909, 'duration': 4.004}, {'text': 'A lot of that is going to Nvidia.\\nA lot of that is going to Broadcom.', 'start': 613.913, 'duration': 2.869}, {'text': \"That's about 18% of their total revenue\\nover the quarter.\", 'start': 616.782, 'duration': 3.404}, {'text': 'So a very concentrated group of customers.', 'start': 620.186, 'duration': 2.836}, {'text': 'You know you ever talk about having a\\nyou know a very specialized customer base.', 'start': 623.022, 'duration': 4.104}, {'text': 'They have you know, 3 or 4 customers.', 'start': 627.126, 'duration': 1.869}, {'text': 'So it really the fortunes depend on\\nwhether these companies continue to spend', 'start': 628.995, 'duration': 3.837}, {'text': 'or they pull back.', 'start': 632.832, 'duration': 0.834}, {'text': 'And now it is $1 trillion.', 'start': 633.666, 'duration': 2.502}, {'text': 'That is pretty crazy because', 'start': 636.168, 'duration': 1.235}, {'text': \"you definitely haven't heard of Broadcom\\nunless you're pretty plugged into\", 'start': 637.403, 'duration': 3.003}, {'text': 'maybe the chip industry.', 'start': 640.406, 'duration': 0.834}, {'text': 'But now it is literally part of that 13\\nfigure club.', 'start': 641.24, 'duration': 3.003}, {'text': 'The rumor mill is still buzzing\\nabout the drones flying over', 'start': 644.477, 'duration': 3.403}, {'text': 'new Jersey with more questions and answers\\nemerging over the weekend.', 'start': 647.88, 'duration': 3.637}, {'text': 'To recap, new Jersey\\nresidents have been bewildered over', 'start': 651.717, 'duration': 2.87}, {'text': 'the past few weeks\\ndue to drones buzzing over their state.', 'start': 654.587, 'duration': 3.336}, {'text': 'A U.S.', 'start': 658.257, 'duration': 0.434}, {'text': 'Army research facility has reported\\n11 confirmed instances of drones', 'start': 658.691, 'duration': 4.104}, {'text': 'illegally entering its airspace,\\nwhile more than a dozen drones', 'start': 662.795, 'duration': 3.036}, {'text': 'have been spotted over a US naval weapons\\nstation since early December.', 'start': 665.831, 'duration': 4.004}, {'text': 'sightings have also been reported\\nin six counties across the state,', 'start': 670.202, 'duration': 3.204}, {'text': 'prompting US lawmakers\\nto get more involved.', 'start': 673.406, 'duration': 2.736}, {'text': 'US Senator Chuck Schumer called\\non the Department of Homeland Security', 'start': 676.142, 'duration': 3.47}, {'text': 'to deploy a recently declassified tech\\nthat can ID and track drones', 'start': 679.612, 'duration': 4.104}, {'text': 'back to their landing spots in an effort\\nto get to the bottom of the sightings.', 'start': 683.716, 'duration': 3.77}, {'text': 'As for what we do\\nknow, officials from Homeland Security', 'start': 687.787, 'duration': 2.836}, {'text': \"say that the drones don't appear\\nto be linked to foreign governments.\", 'start': 690.623, 'duration': 3.637}, {'text': 'While the FBI is pretty sure\\na lot of people have just been seeing', 'start': 694.46, 'duration': 3.237}, {'text': 'planes, quote, many of the reported drone\\nsightings are in fact,', 'start': 697.763, 'duration': 3.837}, {'text': 'manned aircraft being misidentified\\nas drones, they said in a statement.', 'start': 701.767, 'duration': 4.371}, {'text': \"Either way, Neal,\\nwe're now multiple weeks into these\", 'start': 706.439, 'duration': 2.736}, {'text': 'sightings, and still no one\\nhas really gotten to the bottom of things.', 'start': 709.175, 'duration': 3.37}, {'text': \"No. They have\\nthey don't know what's going on.\", 'start': 712.578, 'duration': 2.336}, {'text': 'This really dominated\\nthe Sunday talk shows yesterday.', 'start': 714.914, 'duration': 2.369}, {'text': 'Everyone was talking about,', 'start': 717.283, 'duration': 0.734}, {'text': 'I know you were busy watching Manchester\\nCity, Manchester United,', 'start': 718.017, 'duration': 2.936}, {'text': 'but there are tons of lawmakers going on\\nthese shows talking about the drone issue.', 'start': 720.953, 'duration': 4.104}, {'text': 'It is certainly raised\\nto the national level', 'start': 725.057, 'duration': 2.069}, {'text': \"because it's not just new Jersey,\", 'start': 727.126, 'duration': 1.134}, {'text': \"it's also Connecticut,\\nNew York and Maryland as well.\", 'start': 728.26, 'duration': 3.938}, {'text': 'On Friday night, they had to shut down\\nStewart International Airport,', 'start': 732.465, 'duration': 2.836}, {'text': 'about 60 miles north of New York City,', 'start': 735.301, 'duration': 3.236}, {'text': 'in order to deal with a drone issue.', 'start': 738.537, 'duration': 3.003}, {'text': 'So the question here is, are these benign?', 'start': 741.874, 'duration': 2.336}, {'text': 'Like, what is going on?', 'start': 744.21, 'duration': 1.034}, {'text': 'Are these planes are these actual\\nis there actual a drone infestation?', 'start': 745.244, 'duration': 4.304}, {'text': \"Senator Andy Kim, who's, from new Jersey,\\na senator for new Jersey,\", 'start': 749.749, 'duration': 3.903}, {'text': 'said he went out on local patrol\\nwith police in new Jersey', 'start': 753.652, 'duration': 4.038}, {'text': 'and said that after going out\\nwith the police to observe reports', 'start': 757.823, 'duration': 3.103}, {'text': 'of possible drones,\\nthe AI concluded that most of the drone', 'start': 760.926, 'duration': 3.904}, {'text': 'sightings that were pointed out to me\\nwere almost certainly planes.', 'start': 764.83, 'duration': 3.537}, {'text': 'That said, he criticized information\\ndelivery from federal officials, saying', 'start': 768.534, 'duration': 4.438}, {'text': \"they weren't being transparent and that\\nthey should in their public communication,\", 'start': 772.972, 'duration': 4.471}, {'text': 'just compare this to a crisis CEO moment\\nthat you want to be', 'start': 777.476, 'duration': 3.971}, {'text': 'as transparent as possible.', 'start': 781.447, 'duration': 1.301}, {'text': 'Explain your reasoning, because right now\\nthe Pentagon and the FBI are saying,', 'start': 782.748, 'duration': 3.904}, {'text': \"guys, it's not a big deal.\\nThey're everything's legal.\", 'start': 786.652, 'duration': 2.769}, {'text': \"They are planes.\\nYou're making all this up.\", 'start': 789.421, 'duration': 2.536}, {'text': \"That's just like, not a good community.\", 'start': 791.957, 'duration': 1.435}, {'text': 'Like a good, effective communication\\nstrategy.', 'start': 793.392, 'duration': 3.003}, {'text': 'So senators and other law, state\\nlawmakers are calling on the feds to say,', 'start': 796.395, 'duration': 4.705}, {'text': 'okay,', 'start': 801.267, 'duration': 0.333}, {'text': 'if there is nothing, explain\\nhow you found that out', 'start': 801.6, 'duration': 2.303}, {'text': \"and let the people know,\\nbecause they're getting\", 'start': 803.903, 'duration': 1.501}, {'text': \"a little frustrated\\nand they're getting a little worried.\", 'start': 805.404, 'duration': 1.802}, {'text': 'One thing that could be contributing\\nto this, though, is that even if a lot of', 'start': 807.206, 'duration': 3.804}, {'text': 'the sightings are playing, some people\\ncould be actually seeing hobbyist drones', 'start': 811.01, 'duration': 4.137}, {'text': 'because a 2023 FAA regulatory change\\ndid allow drones to be flown at night,', 'start': 815.147, 'duration': 5.572}, {'text': 'which could possibly be behind\\nsome of the, increase in sightings.', 'start': 820.719, 'duration': 3.938}, {'text': 'Plus U.S.', 'start': 824.657, 'duration': 0.767}, {'text': 'law does really limit how the U.S.', 'start': 825.424, 'duration': 1.802}, {'text': 'military can actually respond to drones.', 'start': 827.226, 'duration': 2.536}, {'text': \"They're not allowed to just shoot them\", 'start': 829.762, 'duration': 1.435}, {'text': 'out of the air as they do\\nneed special authorization.', 'start': 831.197, 'duration': 2.068}, {'text': 'They need to give', 'start': 833.265, 'duration': 1.035}, {'text': 'special authorization to local authorities\\nto deal with drones as well.', 'start': 834.3, 'duration': 4.237}, {'text': 'And so maybe a combination of those two\\nfactors is leading to an increase', 'start': 838.537, 'duration': 4.405}, {'text': 'in sightings.', 'start': 842.942, 'duration': 0.433}, {'text': 'It could', 'start': 843.375, 'duration': 0.501}, {'text': 'I mean, we could be talking about\\nliterally just a few pranksters', 'start': 843.876, 'duration': 2.369}, {'text': \"or someone flying these drones around\\nbecause they're allowed to at night,\", 'start': 846.245, 'duration': 3.036}, {'text': \"even though they aren't allowed\\nto go into FAA restricted airspace.\", 'start': 849.348, 'duration': 3.07}, {'text': 'But still,', 'start': 852.418, 'duration': 0.5}, {'text': 'maybe those are some of the factors\\nthat are contributing this as well.', 'start': 852.918, 'duration': 2.836}, {'text': \"It's completely legal.\", 'start': 855.754, 'duration': 1.001}, {'text': \"Like they're there's\\n800,000 drone registrations\", 'start': 856.755, 'duration': 3.104}, {'text': 'now, which is the equivalent\\nof the population of San Francisco.', 'start': 859.859, 'duration': 3.169}, {'text': 'So there are a lot of drones\\nflying around.', 'start': 863.028, 'duration': 1.268}, {'text': 'You can fly them around at night.', 'start': 864.296, 'duration': 1.302}, {'text': \"It's legal to fly a drone\\nin most locations below 400ft.\", 'start': 865.598, 'duration': 3.67}, {'text': \"You don't really need anything else\\nto send a drone up there.\", 'start': 869.368, 'duration': 2.336}, {'text': \"So, you know, there's they're like,\\nthere's nothing we can do.\", 'start': 871.704, 'duration': 2.903}, {'text': \"Like we can't shoot them down\\nbecause we're not allowed to shoot down\", 'start': 874.607, 'duration': 2.969}, {'text': \"random drones that are flying legally\\nbecause there's collateral damage\", 'start': 877.676, 'duration': 3.704}, {'text': 'over the local area and things like that.', 'start': 881.38, 'duration': 2.169}, {'text': \"So, you know,\\nwe'll see what happens with this story.\", 'start': 883.549, 'duration': 2.602}, {'text': 'I think there is a push\\nfor more transparency', 'start': 886.151, 'duration': 2.47}, {'text': 'from federal officials to just explain,\\njust show their work, essentially.', 'start': 888.621, 'duration': 4.07}, {'text': 'Up next, it is our winners of the weekend.', 'start': 893.192, 'duration': 2.402}, {'text': 'Welcome to', 'start': 896.862, 'duration': 0.801}, {'text': 'winners of the weekend, the segment\\nwhere Toby and I picked two things', 'start': 897.663, 'duration': 3.437}, {'text': \"that cemented their spot on Santa's\\nnice list the past couple of days.\", 'start': 901.1, 'duration': 3.603}, {'text': 'I won the pre-show gingerbread house\\nmaking competition.', 'start': 905.004, 'duration': 2.636}, {'text': 'So I get to go first.', 'start': 907.64, 'duration': 1.801}, {'text': 'My winner is anyone who hates changing\\nthe clocks twice a year, because now', 'start': 909.441, 'duration': 4.338}, {'text': 'you have the most powerful person\\nin the world on your side.', 'start': 913.812, 'duration': 3.237}, {'text': 'Friday night, President elect Trump\\nwrote on Truth Social that he wants to end', 'start': 917.416, 'duration': 3.77}, {'text': 'daylight saving', 'start': 921.186, 'duration': 0.901}, {'text': 'time, calling it, quote, inconvenient\\nand very costly to our nation.', 'start': 922.087, 'duration': 3.537}, {'text': \"He said he'll work with Republicans\", 'start': 925.858, 'duration': 1.468}, {'text': 'to make standard time permanent\\nwhen he takes office.', 'start': 927.326, 'duration': 3.003}, {'text': 'Just as a refresher,\\nthe idea behind daylight', 'start': 930.396, 'duration': 2.068}, {'text': 'saving time is to shift\\nan hour of sunlight from the morning', 'start': 932.464, 'duration': 2.97}, {'text': 'to the evening during the summer months,\\nso that people can enjoy the daylight', 'start': 935.434, 'duration': 3.403}, {'text': 'during their time off from work\\nand spend money to juice the economy.', 'start': 938.837, 'duration': 3.471}, {'text': 'It became federal law in 1966, so\\nnow every state besides Hawaii and Arizona', 'start': 942.541, 'duration': 4.738}, {'text': 'spring their clocks forward in March\\nand fall back after Halloween every year.', 'start': 947.446, 'duration': 4.171}, {'text': 'Toby,\\nthis debate has been raging for decades,', 'start': 951.917, 'duration': 2.436}, {'text': 'and even though Americans say', 'start': 954.353, 'duration': 1.301}, {'text': \"they don't want to keep\\nchanging the clocks,\", 'start': 955.654, 'duration': 1.669}, {'text': \"there's been a little political appetite\\nto change it.\", 'start': 957.323, 'duration': 2.502}, {'text': 'Maybe Trump', 'start': 959.825, 'duration': 0.601}, {'text': 'getting on board will give it the juice\\nit needs to get across the finish line.', 'start': 960.426, 'duration': 3.336}, {'text': 'You can make a lot of arguments\\nfor either side of this.', 'start': 963.762, 'duration': 3.938}, {'text': 'Whether you want to stay\\nwith standard time or move to permanent', 'start': 967.7, 'duration': 3.737}, {'text': 'daylight saving\\ntime is one of them is consumer spending.', 'start': 971.437, 'duration': 3.436}, {'text': \"Most people say that\\nwhen people spend money after work, it's\", 'start': 975.24, 'duration': 3.404}, {'text': 'better to have more sunshine available\\nbecause you would go to stores', 'start': 978.644, 'duration': 4.037}, {'text': \"because it's still light out.\", 'start': 982.681, 'duration': 1.268}, {'text': 'That being said,', 'start': 983.949, 'duration': 1.101}, {'text': 'online shopping is a lot of people do\\nmost of their shopping these days.', 'start': 985.05, 'duration': 3.137}, {'text': \"So does it really matter\\nif it's light or dark out?\", 'start': 988.187, 'duration': 2.402}, {'text': 'Another thing too,', 'start': 990.589, 'duration': 0.934}, {'text': 'is that daylight Savings Time is supposed\\nto make your electric bill cheaper,', 'start': 991.523, 'duration': 3.537}, {'text': \"but there hasn't been really any agreement\", 'start': 995.06, 'duration': 2.303}, {'text': 'on whether it actually does\\nlower energy use.', 'start': 997.363, 'duration': 3.003}, {'text': 'And then finally, sleep\\nand health is a big one as well.', 'start': 1000.432, 'duration': 3.003}, {'text': \"Standard time\\nwhen it's lighter in the mornings\", 'start': 1003.469, 'duration': 2.435}, {'text': 'does help your circadian rhythm,\\nbecause getting that sunlight.', 'start': 1005.904, 'duration': 3.204}, {'text': 'Anyone who listens to,', 'start': 1009.108, 'duration': 0.8}, {'text': 'you know, the Andrew Huberman pod knows\\nthat daylight exposure to sunlight', 'start': 1009.908, 'duration': 3.471}, {'text': \"exposure is probably good\\nfor you, provides a better night's sleep\", 'start': 1013.379, 'duration': 3.169}, {'text': 'because it gets you on the screen\\nwith rhythm.', 'start': 1016.548, 'duration': 1.802}, {'text': 'But also more sunlight in the evenings\\nis probably good', 'start': 1018.35, 'duration': 3.337}, {'text': 'for your mental health as well,', 'start': 1021.687, 'duration': 1.101}, {'text': 'because no one likes it being dark\\nwhen you when you leave work every day.', 'start': 1022.788, 'duration': 3.203}, {'text': 'So for every argument\\nfor one side of the equation,', 'start': 1025.991, 'duration': 2.436}, {'text': 'some people have another argument\\narguing for the opposite right?', 'start': 1028.427, 'duration': 2.769}, {'text': 'But permanent standard\\ntime is just better.', 'start': 1031.196, 'duration': 1.769}, {'text': \"Oh, so Neil\\nclearly thinks I'm clearly on that side.\", 'start': 1032.965, 'duration': 3.303}, {'text': 'More sunlight in the morning.', 'start': 1036.268, 'duration': 1.235}, {'text': 'But I want to talk about this discrepancy', 'start': 1037.503, 'duration': 1.701}, {'text': 'because Trump said that he wants permanent\\nstandard time,', 'start': 1039.204, 'duration': 4.104}, {'text': \"which you don't believe\\nbecause you think he messed up,\", 'start': 1043.442, 'duration': 3.17}, {'text': 'because Trump,\\nbecause the general political consensus.', 'start': 1046.612, 'duration': 3.837}, {'text': 'There have been bills introduced in 2022\\nand 2023 by Marco Rubio, a Republican', 'start': 1050.449, 'duration': 5.305}, {'text': 'wanting permanent daylight saving time,\\nbecause that is where you get the most.', 'start': 1055.954, 'duration': 5.039}, {'text': 'You maximize the evening sunlight,\\nwhich seems to be a little more', 'start': 1060.993, 'duration': 3.403}, {'text': 'politically palatable,', 'start': 1064.396, 'duration': 1.301}, {'text': 'permanent standard time is the\\none of is what people like wonky.', 'start': 1065.697, 'duration': 4.438}, {'text': 'You know, the wonks want the sleep\\nassociation, the medical health experts.', 'start': 1070.269, 'duration': 4.171}, {'text': \"That's they want permanent standard time.\", 'start': 1074.44, 'duration': 1.568}, {'text': 'But in terms of, you know,\\nwhat is more politically feasible?', 'start': 1076.008, 'duration': 2.602}, {'text': \"It's daylight saving time permanent.\", 'start': 1078.61, 'duration': 1.635}, {'text': 'So you think that he maybe misspoke here\\nand wants daylight saving time permanent?', 'start': 1080.245, 'duration': 4.405}, {'text': 'Yeah.', 'start': 1084.65, 'duration': 0.2}, {'text': 'When I think when he said\\nhe wants to end daylight saving,', 'start': 1084.85, 'duration': 2.336}, {'text': 'he means he wants to make daylight\\nsaving permanent', 'start': 1087.186, 'duration': 2.168}, {'text': 'because that is what he expressed\\nsupport for back in 2019.', 'start': 1089.354, 'duration': 4.171}, {'text': 'He tweeted out support for permanent DST\\nback in 2019.', 'start': 1093.525, 'duration': 3.404}, {'text': \"So I do think that by ending it,\\nhe just means we don't want to shift\", 'start': 1096.929, 'duration': 2.969}, {'text': 'clocks anymore, pick one way\\nor the other, right? And I think the way,', 'start': 1099.898, 'duration': 2.636}, {'text': 'based off', 'start': 1103.869, 'duration': 0.467}, {'text': 'his previous statements is\\nhe wants to make DST permanent.', 'start': 1104.336, 'duration': 3.203}, {'text': 'My win over the weekend is Hot Wheels\\nbecause they are on fire right now.', 'start': 1108.14, 'duration': 4.204}, {'text': 'The 56 year old\\nbrand is the best selling toy', 'start': 1112.344, 'duration': 3.07}, {'text': 'in the world, according to the market\\nresearch firm Circrna.', 'start': 1115.414, 'duration': 3.236}, {'text': 'With fans stretching from three year olds\\nall the way up to 63 year olds.', 'start': 1118.75, 'duration': 4.171}, {'text': \"It's one of the stand out lines\\nunder the Mattel umbrella, going toe\", 'start': 1123.155, 'duration': 3.67}, {'text': 'to toe the likes of Barbie,\\nand saw its sales grow 14%', 'start': 1126.825, 'duration': 3.537}, {'text': 'to reach nearly $1.5 billion last year.', 'start': 1130.362, 'duration': 2.97}, {'text': 'At its current pace,\\nMattel sells 22.5 Hot Wheels', 'start': 1133.465, 'duration': 3.47}, {'text': 'cars per second,\\ngood for 791 million cars a year.', 'start': 1136.935, 'duration': 4.338}, {'text': 'You know, a lot of trends are taking Hot\\nWheels into high gear.', 'start': 1141.54, 'duration': 2.97}, {'text': 'One, they are cheap, but most starting\\nat just one dollars and $0.25 apiece, too.', 'start': 1144.51, 'duration': 5.338}, {'text': 'Nostalgia is in right now, and these cars\\nevoke warm feelings of childhood fun.', 'start': 1149.848, 'duration': 4.471}, {'text': 'And three there is a major collector scene\\nwith adults fanatics', 'start': 1154.553, 'duration': 4.004}, {'text': 'driving about one third of global revenue,\\naccording to the company.', 'start': 1158.557, 'duration': 3.337}, {'text': 'The only way I can describe\\nit, Neil, is Hot Wheels is hot.', 'start': 1162.494, 'duration': 2.97}, {'text': 'They are hot.', 'start': 1165.464, 'duration': 0.667}, {'text': \"They are also licensing their IP,\\nwhich you're seeing\", 'start': 1166.131, 'duration': 3.737}, {'text': 'from Barbie and other toy brands,\\nis a great way to maximize revenue.', 'start': 1169.968, 'duration': 3.537}, {'text': \"Of course, there's a Hot Wheels, movie\\ncoming on the heels of Barbie.\", 'start': 1173.572, 'duration': 4.671}, {'text': 'Mattel is like,', 'start': 1178.243, 'duration': 0.668}, {'text': 'oh well, Barbie sales jumped 16%\\nafter it released the Barbie movie.', 'start': 1178.911, 'duration': 4.07}, {'text': \"You know, let's do that for Hot\\nWheels too.\", 'start': 1183.282, 'duration': 1.868}, {'text': \"That's already growing at 14% a year.\", 'start': 1185.15, 'duration': 2.236}, {'text': \"Why don't we do sales even more?\", 'start': 1187.386, 'duration': 1.668}, {'text': 'I think, you know,\\nI think they just have so many.', 'start': 1189.054, 'duration': 3.604}, {'text': 'We talked about Broadcom\\nhaving a very narrow customer base.', 'start': 1193.258, 'duration': 2.803}, {'text': 'Hot wheels has literally everybody\\non the planet', 'start': 1196.061, 'duration': 2.035}, {'text': 'buying Hot Wheels for various\\ndifferent reasons.', 'start': 1198.096, 'duration': 2.736}, {'text': 'You have the kids that want it\\njust for fun.', 'start': 1200.832, 'duration': 1.635}, {'text': 'You have the adults\\nthat are literally paying $99', 'start': 1202.467, 'duration': 3.27}, {'text': 'a year for a subscription\\nto get the latest collectible models.', 'start': 1205.737, 'duration': 3.504}, {'text': 'That is recurring revenue\\nfor a toy company.', 'start': 1209.241, 'duration': 2.703}, {'text': \"That's kind of unheard of.\", 'start': 1211.944, 'duration': 1.368}, {'text': 'So this company\\nis clicking on all cylinders,', 'start': 1213.312, 'duration': 1.902}, {'text': \"and it just goes back\\nto maybe American's love affair with cars.\", 'start': 1215.214, 'duration': 3.57}, {'text': 'It really does.', 'start': 1218.817, 'duration': 0.701}, {'text': \"I do think you can't overlook price\\neither, because selling for a $1.25\", 'start': 1219.518, 'duration': 3.804}, {'text': \"a piece, that's a big draw\\nin an inflationary environment,\", 'start': 1223.322, 'duration': 3.003}, {'text': 'especially if you think if you actually do', 'start': 1226.391, 'duration': 2.203}, {'text': 'the math, the toys cost less today\\nthan they did in 1968.', 'start': 1228.594, 'duration': 3.603}, {'text': 'They retailed for about 69\\nto $0.89 back in the 60s and 70s.', 'start': 1232.331, 'duration': 4.337}, {'text': \"But that's roughly 6 to $8 in\\ntoday's dollars.\", 'start': 1236.668, 'duration': 3.47}, {'text': \"So it's one I want to know\\nwhere are they making these?\", 'start': 1240.138, 'duration': 2.97}, {'text': 'I know their level of craftsmanship\\ncannot be right.', 'start': 1243.108, 'duration': 3.003}, {'text': 'There has been a little bit of pushback\\nbecause people have shown the bottom', 'start': 1246.144, 'duration': 3.437}, {'text': \"of Hot Wheels cars and how over time,\\nthey've been a little simplified.\", 'start': 1249.581, 'duration': 3.57}, {'text': \"Because you're right,\\nthey are producing a lot.\", 'start': 1253.252, 'duration': 1.768}, {'text': 'But one of the things is, I mean,', 'start': 1255.02, 'duration': 1.335}, {'text': \"I mentioned that they're selling 22.5\\nHot Wheels toys per second.\", 'start': 1256.355, 'duration': 3.136}, {'text': \"They're also making 22.5\\nHot Wheels toys per second.\", 'start': 1259.591, 'duration': 3.637}, {'text': 'So that level of scale\\nallows them to sell them for very cheaply.', 'start': 1263.228, 'duration': 3.871}, {'text': \"And maybe it's subsidized\", 'start': 1267.099, 'duration': 1.101}, {'text': 'by this subscription plan\\nthat some people are talking about.', 'start': 1268.2, 'duration': 3.437}, {'text': 'One, fun story about this, the Mattel toy\\numbrella, whatever you want to call it.', 'start': 1271.87, 'duration': 5.339}, {'text': 'The connection between Barbie and Hot\\nWheels runs very deep because Hot Wheels', 'start': 1277.442, 'duration': 4.471}, {'text': 'creator Elliott Handler was married\\nto the woman behind Barbie, Ruth Handler.', 'start': 1281.913, 'duration': 4.605}, {'text': \"If that isn't fate,\\nor if that isn't just an aligning of these\", 'start': 1286.518, 'duration': 3.871}, {'text': \"toy forces\\nand I don't know what is, it's Monday,\", 'start': 1290.389, 'duration': 3.169}, {'text': 'and as per tradition here are the events\\nyou need to know about for the week ahead.', 'start': 1293.558, 'duration': 4.238}, {'text': 'The fed is holding its final meeting\\nof the year', 'start': 1298.163, 'duration': 2.769}, {'text': \"on Wednesday, and it's overwhelmingly\\nexpected to cut rates.\", 'start': 1300.932, 'duration': 3.204}, {'text': 'A standard quarter percentage point,\\nthe third rate cut this year.', 'start': 1304.136, 'duration': 3.67}, {'text': \"Well, that's pretty much locked in.\", 'start': 1308.04, 'duration': 1.801}, {'text': 'The big question mark is its rate path.', 'start': 1309.841, 'duration': 1.902}, {'text': 'In 2025.', 'start': 1311.743, 'duration': 1.468}, {'text': 'Inflation is proving to be more stubborn\\nthan anticipated, hovering above that', 'start': 1313.211, 'duration': 3.704}, {'text': '2% target.', 'start': 1316.915, 'duration': 1.101}, {'text': \"And Trump's economic policies like tariffs\\ncould complicate the picture even more.\", 'start': 1318.016, 'duration': 4.104}, {'text': 'Economists surveyed by Bloomberg\\nhave a median estimate of three rate cuts.', 'start': 1322.387, 'duration': 3.904}, {'text': \"Next year,\\nbut we'll see what Jay Powell says.\", 'start': 1326.291, 'duration': 1.969}, {'text': \"This might be the last meeting\\nwhere we know what's going to happen,\", 'start': 1328.26, 'duration': 3.437}, {'text': 'because there are just so many question\\nmarks on the horizon.', 'start': 1331.697, 'duration': 2.702}, {'text': 'Does inflation that just jump back up\\nor are these tariffs', 'start': 1334.399, 'duration': 3.37}, {'text': 'going to be more of a bargaining chip', 'start': 1337.769, 'duration': 1.902}, {'text': \"if they do go into effect and jack up\\nprices, that's when the situation\", 'start': 1339.671, 'duration': 2.87}, {'text': 'becomes a little murky.', 'start': 1342.541, 'duration': 1.067}, {'text': 'Because\\nhow can you go ahead with rate cuts', 'start': 1343.608, 'duration': 2.47}, {'text': 'if you see inflation\\nstarting to creep back in.', 'start': 1346.078, 'duration': 2.235}, {'text': \"Probably camp baby. It's cold outside.\", 'start': 1348.313, 'duration': 2.369}, {'text': \"And if you plan on hunkering down,\\nthere's plenty to watch on the screen, big\", 'start': 1350.682, 'duration': 3.771}, {'text': 'and small, Mr.', 'start': 1354.453, 'duration': 1.001}, {'text': 'Beast Squid Game\\ninspired a competition show beast games', 'start': 1355.454, 'duration': 3.169}, {'text': 'hits Amazon Prime Video on Thursday,\\noffering a grand prize of $5 million.', 'start': 1358.89, 'duration': 4.638}, {'text': 'Mufasa, the prequel to 2019 live action\\nLion King, arrives in theaters on Friday.', 'start': 1363.695, 'duration': 5.506}, {'text': 'And then, if you want to impress your film\\nmajor friends, go see Oscar', 'start': 1369.201, 'duration': 3.47}, {'text': 'contender The Brutal List\\nstarring Adrien Brody, also out on Friday.', 'start': 1372.671, 'duration': 3.737}, {'text': \"I don't know, I mean, the only one\\nI'm interested in is the brutalist\", 'start': 1376.408, 'duration': 3.003}, {'text': \"because The Lion King prequel\\nI just haven't seen much buzz about.\", 'start': 1379.411, 'duration': 3.837}, {'text': 'Even though 2019 Lion King grossed $1.7', 'start': 1383.248, 'duration': 3.137}, {'text': 'billion worldwide,\\nthat is a gigantic number.', 'start': 1386.385, 'duration': 3.269}, {'text': \"I can't see this.\", 'start': 1389.755, 'duration': 1.067}, {'text': \"It just doesn't seem like\\nthere's been much buzz about it.\", 'start': 1390.822, 'duration': 2.303}, {'text': \"And then Squid Games,\\nI can't believe, are still doing well.\", 'start': 1393.125, 'duration': 2.969}, {'text': 'Mr. Beast.', 'start': 1396.094, 'duration': 0.668}, {'text': \"I know it's Mr.\", 'start': 1396.762, 'duration': 0.9}, {'text': 'Beast, but still like it feels like\\nSquid Games cultural relevance has passed.', 'start': 1397.662, 'duration': 3.971}, {'text': 'They did release another season', 'start': 1401.633, 'duration': 1.401}, {'text': 'and Squid Games on YouTube\\nthat what he recreated did do very well.', 'start': 1403.034, 'duration': 4.105}, {'text': \"But I don't know. It's\\nhard for me to get excited.\", 'start': 1407.172, 'duration': 2.035}, {'text': \"It's a two.\", 'start': 1409.207, 'duration': 0.601}, {'text': \"It's a big, big deal for the creator\\neconomy, if you want to call it that.\", 'start': 1409.808, 'duration': 3.503}, {'text': 'For Mr.', 'start': 1413.311, 'duration': 0.434}, {'text': 'Beast to move beyond YouTube\\nto the streaming and TV realm.', 'start': 1413.745, 'duration': 4.071}, {'text': \"So we'll see how that goes out.\\nI mean, I'm not gonna lie.\", 'start': 1417.949, 'duration': 2.837}, {'text': \"Let's be honest.\", 'start': 1420.786, 'duration': 0.834}, {'text': \"In sports, here's an awesome story.\", 'start': 1421.62, 'duration': 1.835}, {'text': 'The University of Vermont', 'start': 1423.455, 'duration': 1.568}, {'text': 'will play in its first ever\\nchampionship game in any sport tonight,', 'start': 1425.023, 'duration': 3.67}, {'text': \"when the Catamounts take on Marshall\\nfor the men's soccer title tonight.\", 'start': 1428.827, 'duration': 3.57}, {'text': 'No disrespect to the Catamounts,\\nbut they eliminated my younger brother', 'start': 1432.397, 'duration': 3.937}, {'text': 'in his final collegiate game', 'start': 1436.334, 'duration': 1.769}, {'text': 'ever in the NCAA tournament,\\nso I forever have a beef with them.', 'start': 1438.103, 'duration': 3.47}, {'text': 'So to see them doing\\nwell is a little bittersweet for me.', 'start': 1441.873, 'duration': 2.703}, {'text': 'But congrats to the Catamounts!', 'start': 1444.576, 'duration': 1.702}, {'text': 'That is an awesome achievement\\nand I will be tuning in to watch that.', 'start': 1446.278, 'duration': 3.27}, {'text': 'Okay, that is all the time we have.', 'start': 1449.714, 'duration': 1.969}, {'text': 'Thanks so much for starting your morning', 'start': 1451.683, 'duration': 1.335}, {'text': 'with us\\nand have a wonderful start to the week.', 'start': 1453.018, 'duration': 2.502}, {'text': \"It's officially let's circle back in 2025\\nseason in your inbox for any questions,\", 'start': 1455.52, 'duration': 5.406}, {'text': 'comments or feedback, send an email\\nto Morning Brew Daily at Morning brew.com.', 'start': 1460.926, 'duration': 4.104}, {'text': \"And if you're a satisfied customer\\nand want to help grow this podcast,\", 'start': 1465.263, 'duration': 3.103}, {'text': 'share it with friends, family,\\nand coworkers who are lacking a solid news', 'start': 1468.533, 'duration': 3.737}, {'text': 'roundup in the morning.', 'start': 1472.27, 'duration': 1.268}, {'text': \"For everyone with shares\\nblock, Toby's got our recommendation.\", 'start': 1473.538, 'duration': 3.27}, {'text': 'I want you to share the podcast\\nwith someone who has a theory about', 'start': 1477.142, 'duration': 3.47}, {'text': 'the drones.', 'start': 1480.679, 'duration': 1.034}, {'text': \"I know you got an uncle or a cousin\\nwho's been thinking about these things,\", 'start': 1481.713, 'duration': 3.604}, {'text': 'so share this pod.', 'start': 1485.317, 'duration': 1.067}, {'text': 'Give them the drone conversation\\ntime stamp and just say thoughts.', 'start': 1486.384, 'duration': 3.537}, {'text': 'I think the rest will take care of itself.', 'start': 1490.055, 'duration': 1.601}, {'text': \"Let's roll the credits.\", 'start': 1491.656, 'duration': 1.168}, {'text': 'Emily Milian is our executive producer.', 'start': 1492.824, 'duration': 2.302}, {'text': 'Raven live is our producer.', 'start': 1495.126, 'duration': 1.402}, {'text': 'Olivia Graham is our associate producer.', 'start': 1496.528, 'duration': 2.202}, {'text': 'You Chenoa is our technical director.', 'start': 1498.73, 'duration': 2.069}, {'text': 'Billy Menino is on audio.', 'start': 1500.799, 'duration': 1.802}, {'text': \"Hair makeup's got a dinner down\\nin Mar-A-Lago.\", 'start': 1502.601, 'duration': 2.836}, {'text': 'Really?', 'start': 1505.437, 'duration': 0.434}, {'text': \"He's inviting anyone.\", 'start': 1505.871, 'duration': 1.067}, {'text': 'Devin Emery is our chief content officer.', 'start': 1506.938, 'duration': 2.336}, {'text': 'And our show is a production of Morning\\nBrew.', 'start': 1509.274, 'duration': 2.169}, {'text': \"Great show.\\nDanielle. Let's run it back tomorrow.\", 'start': 1511.443, 'duration': 2.436}], 'is_auto_generated': False})"
      ]
     },
     "execution_count": 310,
     "metadata": {},
     "output_type": "execute_result"
    }
   ],
   "source": [
    "meta_data"
   ]
  },
  {
   "cell_type": "code",
   "execution_count": 208,
   "metadata": {},
   "outputs": [
    {
     "data": {
      "text/plain": [
       "{'text': \"Hair makeup's got a dinner down\\nin Mar-A-Lago.\",\n",
       " 'start': 1502.601,\n",
       " 'duration': 2.836}"
      ]
     },
     "execution_count": 208,
     "metadata": {},
     "output_type": "execute_result"
    },
    {
     "data": {
      "text/plain": [
       "\"Hair makeup's got a dinner down in Mar-A-Lago.\""
      ]
     },
     "execution_count": 208,
     "metadata": {},
     "output_type": "execute_result"
    }
   ],
   "source": [
    "from data.preprocess import clean_text, clean_transcript\n",
    "meta_data.transcript['transcript'][-6]\n",
    "clean_text(meta_data.transcript['transcript'][-6]['text'])"
   ]
  },
  {
   "cell_type": "code",
   "execution_count": 249,
   "metadata": {},
   "outputs": [
    {
     "data": {
      "text/plain": [
       "[\"Hair makeup's got a dinner down in Mar-A-Lago.\",\n",
       " 'Really?',\n",
       " \"He's inviting anyone.\",\n",
       " 'Devin Emery is our chief content officer.',\n",
       " 'And our show is a production of Morning Brew.',\n",
       " \"Great show. Danielle. Let's run it back tomorrow.\"]"
      ]
     },
     "execution_count": 249,
     "metadata": {},
     "output_type": "execute_result"
    }
   ],
   "source": [
    "from data.preprocess import merge_chapter_transcript\n",
    "\n",
    "chapter_transcript = merge_chapter_transcript(meta_data)\n",
    "chapter_transcript[-1].transcript[-6:]"
   ]
  },
  {
   "cell_type": "markdown",
   "metadata": {},
   "source": [
    "## LangChain"
   ]
  },
  {
   "cell_type": "code",
   "execution_count": 9,
   "metadata": {},
   "outputs": [
    {
     "data": {
      "text/plain": [
       "'0.3.13'"
      ]
     },
     "execution_count": 9,
     "metadata": {},
     "output_type": "execute_result"
    }
   ],
   "source": [
    "from langchain_community.embeddings import HuggingFaceEmbeddings\n",
    "import langchain_community\n",
    "langchain_community.__version__"
   ]
  },
  {
   "cell_type": "code",
   "execution_count": 250,
   "metadata": {},
   "outputs": [
    {
     "data": {
      "text/plain": [
       "[\"Good Morning Brew Daily Show. I'm Neal Freyman. And I'm Toby Howell. today. It's not Barbie. It's not Lego. The best selling toy in the world is. Yeah. You're going to have to wait for that then. It's a bird. It's a plane. No, it's a drone hovering over new Jersey. But in reality, it's probably a plane. It's Monday, December 16th. Let's ride. The holiday season is full of heartwarming stories of generosity and giving back. And I got another one for you right here last week. The extremely popular\",\n",
       " \"you right here last week. The extremely popular author James Patterson handed out $500 holiday bonuses to 600 employees at independent bookstores across the country. It's a tradition he started in 2015, inviting thousands of booksellers to apply and picking hundreds of winners from the nominees. In a statement, Patterson said booksellers save lives, period. I'm happy to be able to acknowledge them and all their hard work this holiday season. I mean, it does warm the heart. James Patterson is\",\n",
       " \"mean, it does warm the heart. James Patterson is also a juggernaut. He sold more than 425 million copies of his book. His total income over the last decade is estimated at $700 million. That being said, his books have been described as a literary equivalent of Kentucky Fried Chicken, and he's often been criticized for coauthoring a lot of his stories. But a lot of people enjoy Kentucky Fried Chicken Meal, and it means some of his profits go towards these independent booksellers. Sometimes you\",\n",
       " \"these independent booksellers. Sometimes you just have to tip your cap and say, that is a good deed. Now, a word from our sponsor, the Range Rover Sport. That's right Neil, we're finishing off the year in style. Style is a great word for it because the new Range Rover Sport oozes class. Each model offers a sophisticated take on sporting luxury, so you can cruise in style but also get a little adventurous with its off roading capabilities. It's a dual threat Neal focused on road performance, but\",\n",
       " \"dual threat Neal focused on road performance, but with world famous off road capability. It's the fire and ice of cars. The Toby and Neil of cars. Okay, but who's the off road power and who's the on road cruising? I think you're giving some off road vibes these days. Could be the 5:00 shadow. If you want a taste of the finer things and the wild side, build your Range Rover Sport at Land Rover usa.com.\",\n",
       " \"Today, America's top tech moguls are marching one by one to Mar a Lago, a pilgrimage they hope will repair a rocky relationship with president elect Trump and curry favor with the upcoming administration. Last week, it was Google's Sundar Pichai and Apple's Tim Cook making the trek from California to Palm Beach. Before Thanksgiving, it was Meta's Mark Zuckerberg, and this week, Amazon founder Jeff Bezos will have dinner with Trump. Meanwhile, meta, Amazon and OpenAI Sam Altman are writing checks\",\n",
       " 'Amazon and OpenAI Sam Altman are writing checks to Trump, with all three saying last week they would contribute $1 million to his inaugural fund. For some historical context, it is not unusual for CEOs to cozy up to an incoming administration. The white House sets policies that will have major impacts on their companies, and they want to make sure their interests are being heard. This has been going on for decades, but for the tech industry in particular, it is a striking reversal. Silicon',\n",
       " \"in particular, it is a striking reversal. Silicon Valley and Trump were no fans of each other during his first stint in the white House, and shortly thereafter. It's certainly a sign of the times that Salesforce CEO Marc Benioff, who a few years ago had been a major Democratic supporter, said last week it was a time of great promise for our nation. Yeah. After keeping the Trump administration or the Trump campaign out a little bit of an arm's length during the campaign season, a lot of these\",\n",
       " \"length during the campaign season, a lot of these CEOs are saying, you know what? I do not want to risk being on bad terms with Trump. Let's go speak with him face to face. Let's go to Mar-A-Lago and just see what he's about and see if we can create this relationship. The thing about some of these inaugural fund donations, too, is what it does is guarantee you some face time with Trump and Vance, because donors to the, inauguration fund do get invitation to inauguration ball access to a\",\n",
       " 'get invitation to inauguration ball access to a candlelit dinner with the Trumps. And then, they also have a access to reception with the cabinet picks. So what you are seeing is paying $1 million, saying, like, I do want to have more opportunities to have FaceTime with you. And also one thing about inaugural committees is that they are pretty low stakes in terms of donations. They are seen as a very normal thing for companies to do, to seek favor. There is a little bit of a guise of patriotism']"
      ]
     },
     "execution_count": 250,
     "metadata": {},
     "output_type": "execute_result"
    },
    {
     "name": "stderr",
     "output_type": "stream",
     "text": [
      "2024-12-25 15:09:23,851 - INFO - Use pytorch device_name: mps\n",
      "2024-12-25 15:09:23,852 - INFO - Load pretrained SentenceTransformer: sentence-transformers/all-mpnet-base-v2\n"
     ]
    }
   ],
   "source": [
    "from langchain_community.embeddings import HuggingFaceEmbeddings\n",
    "from langchain_community.vectorstores import FAISS\n",
    "from langchain.text_splitter import RecursiveCharacterTextSplitter\n",
    "\n",
    "# Split the document into chunks with a specified chunk size\n",
    "text_splitter = RecursiveCharacterTextSplitter(chunk_size=500, chunk_overlap=50)\n",
    "all_splits = []\n",
    "for chapter in chapter_transcript:\n",
    "    all_splits.extend(text_splitter.split_text(' '.join(chapter.transcript)))\n",
    "\n",
    "all_splits[:10]\n",
    "# Store the document into a vector store with a specific embedding model\n",
    "vectorstore = FAISS.from_texts(all_splits, HuggingFaceEmbeddings(model_name=\"sentence-transformers/all-mpnet-base-v2\"))"
   ]
  },
  {
   "cell_type": "code",
   "execution_count": 251,
   "metadata": {},
   "outputs": [
    {
     "data": {
      "text/plain": [
       "[(Document(id='78f93b32-2d36-4b25-afa6-d085aff833c5', metadata={}, page_content=\"thinking about these things, so share this pod. Give them the drone conversation time stamp and just say thoughts. I think the rest will take care of itself. Let's roll the credits. Emily Milian is our executive producer. Raven live is our producer. Olivia Graham is our associate producer. You Chenoa is our technical director. Billy Menino is on audio. Hair makeup's got a dinner down in Mar-A-Lago. Really? He's inviting anyone. Devin Emery is our chief content officer. And our show is a\"),\n",
       "  0.85989475),\n",
       " (Document(id='30c4e6cd-3635-44f5-b726-7d0f4e8b067b', metadata={}, page_content=\"questions, comments or feedback, send an email to Morning Brew Daily at Morning brew.com. And if you're a satisfied customer and want to help grow this podcast, share it with friends, family, and coworkers who are lacking a solid news roundup in the morning. For everyone with shares block, Toby's got our recommendation. I want you to share the podcast with someone who has a theory about the drones. I know you got an uncle or a cousin who's been thinking about these things, so share this pod.\"),\n",
       "  1.0169597),\n",
       " (Document(id='05a82996-7c5d-46bc-ad0d-605d11b604e4', metadata={}, page_content=\"is our chief content officer. And our show is a production of Morning Brew. Great show. Danielle. Let's run it back tomorrow.\"),\n",
       "  1.0652962),\n",
       " (Document(id='12442cf5-4828-4c1e-bccb-6a716e1fa68c', metadata={}, page_content=\"Good Morning Brew Daily Show. I'm Neal Freyman. And I'm Toby Howell. today. It's not Barbie. It's not Lego. The best selling toy in the world is. Yeah. You're going to have to wait for that then. It's a bird. It's a plane. No, it's a drone hovering over new Jersey. But in reality, it's probably a plane. It's Monday, December 16th. Let's ride. The holiday season is full of heartwarming stories of generosity and giving back. And I got another one for you right here last week. The extremely popular\"),\n",
       "  1.1366363),\n",
       " (Document(id='02d4b0ff-1d0e-4ad3-9f6c-1f4b816b1fae', metadata={}, page_content=\"Today, America's top tech moguls are marching one by one to Mar a Lago, a pilgrimage they hope will repair a rocky relationship with president elect Trump and curry favor with the upcoming administration. Last week, it was Google's Sundar Pichai and Apple's Tim Cook making the trek from California to Palm Beach. Before Thanksgiving, it was Meta's Mark Zuckerberg, and this week, Amazon founder Jeff Bezos will have dinner with Trump. Meanwhile, meta, Amazon and OpenAI Sam Altman are writing checks\"),\n",
       "  1.4033762),\n",
       " (Document(id='e32c822d-c88d-4928-bd6d-b54e913ae875', metadata={}, page_content=\"know, we'll see what happens with this story. I think there is a push for more transparency from federal officials to just explain, just show their work, essentially. Up next, it is our winners of the weekend. Welcome to winners of the weekend, the segment where Toby and I picked two things that cemented their spot on Santa's nice list the past couple of days. I won the pre-show gingerbread house making competition. So I get to go first. My winner is anyone who hates changing the clocks twice a\"),\n",
       "  1.5004096),\n",
       " (Document(id='7708585e-21a9-4656-9cba-c36c44d3385a', metadata={}, page_content=\"have just been seeing planes, quote, many of the reported drone sightings are in fact, manned aircraft being misidentified as drones, they said in a statement. Either way, Neal, we're now multiple weeks into these sightings, and still no one has really gotten to the bottom of things. No. They have they don't know what's going on. This really dominated the Sunday talk shows yesterday. Everyone was talking about, I know you were busy watching Manchester City, Manchester United, but there are tons\"),\n",
       "  1.5599802),\n",
       " (Document(id='eebd275d-d8e3-48c5-a286-9a1a6a2e5470', metadata={}, page_content=\"There is a little bit of a guise of patriotism attached to it as well, without being seen as like overly partizan. So I wouldn't read too much into the fact that they're all donating exactly $1 million, because it does give you access to the events, and it is a rather normal thing to do to an incoming administration. I want to talk about one of these, tech moguls that is going to Mar-A-Lago this week, Jeff Bezos, because I think he is a good example of what can happen when the relationship with\"),\n",
       "  1.5930114),\n",
       " (Document(id='90a45158-f8eb-44cc-a789-4d12ec43f07b', metadata={}, page_content='Musk. Elon Musk already has that bromance with Trump, and there is the potential that Trump or Elon Musk could use that power to cut them out of lucrative business deals. Right. He is the other power player that CEOs are also trying to figure out how to navigate the relationship, because a lot of those CEOs could be wary that Musk could just punish his business rivals, could push them to the side. Sam Altman is obviously a big one of those. Elon Musk has repeatedly sued OpenAI, saying that it'),\n",
       "  1.6066098),\n",
       " (Document(id='481a97ca-4b9e-4bbb-aaca-8939e65f9378', metadata={}, page_content=\"on? Are these planes are these actual is there actual a drone infestation? Senator Andy Kim, who's, from new Jersey, a senator for new Jersey, said he went out on local patrol with police in new Jersey and said that after going out with the police to observe reports of possible drones, the AI concluded that most of the drone sightings that were pointed out to me were almost certainly planes. That said, he criticized information delivery from federal officials, saying they weren't being\"),\n",
       "  1.6073592)]"
      ]
     },
     "execution_count": 251,
     "metadata": {},
     "output_type": "execute_result"
    }
   ],
   "source": [
    "question = \"who are the speakers of this podcast\"\n",
    "results = vectorstore.similarity_search_with_score(\n",
    "    question,\n",
    "    k=10,\n",
    ")\n",
    "results"
   ]
  },
  {
   "cell_type": "code",
   "execution_count": 271,
   "metadata": {},
   "outputs": [
    {
     "data": {
      "text/plain": [
       "[Document(id='78f93b32-2d36-4b25-afa6-d085aff833c5', metadata={}, page_content=\"thinking about these things, so share this pod. Give them the drone conversation time stamp and just say thoughts. I think the rest will take care of itself. Let's roll the credits. Emily Milian is our executive producer. Raven live is our producer. Olivia Graham is our associate producer. You Chenoa is our technical director. Billy Menino is on audio. Hair makeup's got a dinner down in Mar-A-Lago. Really? He's inviting anyone. Devin Emery is our chief content officer. And our show is a\"),\n",
       " Document(id='07059542-ac4d-4671-9f32-f8aa01bed28d', metadata={}, page_content='pick one way or the other, right? And I think the way, based off his previous statements is he wants to make DST permanent. My win over the weekend is Hot Wheels because they are on fire right now.'),\n",
       " Document(id='50b4d092-1b48-4013-ae9d-cb0898b8d3ea', metadata={}, page_content=\"you right here last week. The extremely popular author James Patterson handed out $500 holiday bonuses to 600 employees at independent bookstores across the country. It's a tradition he started in 2015, inviting thousands of booksellers to apply and picking hundreds of winners from the nominees. In a statement, Patterson said booksellers save lives, period. I'm happy to be able to acknowledge them and all their hard work this holiday season. I mean, it does warm the heart. James Patterson is\"),\n",
       " Document(id='90a45158-f8eb-44cc-a789-4d12ec43f07b', metadata={}, page_content='Musk. Elon Musk already has that bromance with Trump, and there is the potential that Trump or Elon Musk could use that power to cut them out of lucrative business deals. Right. He is the other power player that CEOs are also trying to figure out how to navigate the relationship, because a lot of those CEOs could be wary that Musk could just punish his business rivals, could push them to the side. Sam Altman is obviously a big one of those. Elon Musk has repeatedly sued OpenAI, saying that it'),\n",
       " Document(id='12442cf5-4828-4c1e-bccb-6a716e1fa68c', metadata={}, page_content=\"Good Morning Brew Daily Show. I'm Neal Freyman. And I'm Toby Howell. today. It's not Barbie. It's not Lego. The best selling toy in the world is. Yeah. You're going to have to wait for that then. It's a bird. It's a plane. No, it's a drone hovering over new Jersey. But in reality, it's probably a plane. It's Monday, December 16th. Let's ride. The holiday season is full of heartwarming stories of generosity and giving back. And I got another one for you right here last week. The extremely popular\"),\n",
       " Document(id='e44f241d-c9fa-41a8-bf53-d2d7fdbcce16', metadata={}, page_content=\"dual threat Neal focused on road performance, but with world famous off road capability. It's the fire and ice of cars. The Toby and Neil of cars. Okay, but who's the off road power and who's the on road cruising? I think you're giving some off road vibes these days. Could be the 5:00 shadow. If you want a taste of the finer things and the wild side, build your Range Rover Sport at Land Rover usa.com.\"),\n",
       " Document(id='30c4e6cd-3635-44f5-b726-7d0f4e8b067b', metadata={}, page_content=\"questions, comments or feedback, send an email to Morning Brew Daily at Morning brew.com. And if you're a satisfied customer and want to help grow this podcast, share it with friends, family, and coworkers who are lacking a solid news roundup in the morning. For everyone with shares block, Toby's got our recommendation. I want you to share the podcast with someone who has a theory about the drones. I know you got an uncle or a cousin who's been thinking about these things, so share this pod.\"),\n",
       " Document(id='a8ab1f38-e1e3-4672-919d-d3febb7b45c2', metadata={}, page_content=\"if you want to call it that. For Mr. Beast to move beyond YouTube to the streaming and TV realm. So we'll see how that goes out. I mean, I'm not gonna lie. Let's be honest. In sports, here's an awesome story. The University of Vermont will play in its first ever championship game in any sport tonight, when the Catamounts take on Marshall for the men's soccer title tonight. No disrespect to the Catamounts, but they eliminated my younger brother in his final collegiate game ever in the NCAA\"),\n",
       " Document(id='05a82996-7c5d-46bc-ad0d-605d11b604e4', metadata={}, page_content=\"is our chief content officer. And our show is a production of Morning Brew. Great show. Danielle. Let's run it back tomorrow.\"),\n",
       " Document(id='eebd275d-d8e3-48c5-a286-9a1a6a2e5470', metadata={}, page_content=\"There is a little bit of a guise of patriotism attached to it as well, without being seen as like overly partizan. So I wouldn't read too much into the fact that they're all donating exactly $1 million, because it does give you access to the events, and it is a rather normal thing to do to an incoming administration. I want to talk about one of these, tech moguls that is going to Mar-A-Lago this week, Jeff Bezos, because I think he is a good example of what can happen when the relationship with\")]"
      ]
     },
     "execution_count": 271,
     "metadata": {},
     "output_type": "execute_result"
    }
   ],
   "source": [
    "retriever = vectorstore.as_retriever(search_type=\"mmr\", search_kwargs={\"k\": 10})\n",
    "retriever.invoke(question)"
   ]
  },
  {
   "cell_type": "code",
   "execution_count": 270,
   "metadata": {},
   "outputs": [],
   "source": [
    "# use ConversationalRetrievalChain to pass chat history for follow up questions\n",
    "from langchain.chains import ConversationalRetrievalChain\n",
    "from langchain_community.llms import Replicate\n",
    "llm = Replicate(\n",
    "    model=\"meta/meta-llama-3-8b-instruct\",\n",
    "    model_kwargs={\"temperature\": 0.0, \"top_p\": 1, \"max_new_tokens\":500}\n",
    ")\n",
    "\n",
    "chat_chain = ConversationalRetrievalChain.from_llm(llm, retriever, return_source_documents=True)"
   ]
  },
  {
   "cell_type": "code",
   "execution_count": 266,
   "metadata": {},
   "outputs": [
    {
     "name": "stderr",
     "output_type": "stream",
     "text": [
      "2024-12-25 15:11:34,961 - INFO - HTTP Request: POST https://api.replicate.com/v1/models/meta/meta-llama-3-8b-instruct/predictions \"HTTP/1.1 201 Created\"\n",
      "2024-12-25 15:11:35,720 - INFO - HTTP Request: GET https://api.replicate.com/v1/predictions/khjvvbgqxsrj00ckzjmaz3s6vc \"HTTP/1.1 200 OK\"\n"
     ]
    },
    {
     "name": "stdout",
     "output_type": "stream",
     "text": [
      "\n",
      "\n",
      "Based on the provided context, the speakers of this podcast are:\n",
      "\n",
      "1. Neal Freyman\n",
      "2. Toby Howell\n",
      "\n",
      "They are the hosts of the Morning Brew Daily Show.\n"
     ]
    }
   ],
   "source": [
    "result = chat_chain({\"question\": question, \"chat_history\": []})\n",
    "print(result['answer'])"
   ]
  },
  {
   "cell_type": "code",
   "execution_count": 267,
   "metadata": {},
   "outputs": [
    {
     "name": "stderr",
     "output_type": "stream",
     "text": [
      "2024-12-25 15:11:45,119 - INFO - HTTP Request: POST https://api.replicate.com/v1/models/meta/meta-llama-3-8b-instruct/predictions \"HTTP/1.1 201 Created\"\n",
      "2024-12-25 15:11:46,285 - INFO - HTTP Request: GET https://api.replicate.com/v1/predictions/mdc6fqhzk9rj20ckzjm8sj65zw \"HTTP/1.1 200 OK\"\n",
      "2024-12-25 15:11:48,246 - INFO - HTTP Request: POST https://api.replicate.com/v1/models/meta/meta-llama-3-8b-instruct/predictions \"HTTP/1.1 201 Created\"\n",
      "2024-12-25 15:11:49,012 - INFO - HTTP Request: GET https://api.replicate.com/v1/predictions/1abnnd2bq1rj60ckzjma7v17tc \"HTTP/1.1 200 OK\"\n"
     ]
    },
    {
     "name": "stdout",
     "output_type": "stream",
     "text": [
      "\n",
      "\n",
      "According to the context, Neal Freyman and Toby Howell work for Morning Brew.\n"
     ]
    }
   ],
   "source": [
    "chat_history = [(question, result[\"answer\"])]\n",
    "followup = \"what company do they work for?\"\n",
    "followup_answer = chat_chain({\"question\": followup, \"chat_history\": chat_history})\n",
    "print(followup_answer['answer'])"
   ]
  },
  {
   "cell_type": "code",
   "execution_count": 268,
   "metadata": {},
   "outputs": [
    {
     "name": "stderr",
     "output_type": "stream",
     "text": [
      "2024-12-25 15:12:26,860 - INFO - HTTP Request: POST https://api.replicate.com/v1/models/meta/meta-llama-3-8b-instruct/predictions \"HTTP/1.1 201 Created\"\n",
      "2024-12-25 15:12:27,611 - INFO - HTTP Request: GET https://api.replicate.com/v1/predictions/dtrcjn72nhrj40ckzjma23xa84 \"HTTP/1.1 200 OK\"\n",
      "2024-12-25 15:12:29,432 - INFO - HTTP Request: POST https://api.replicate.com/v1/models/meta/meta-llama-3-8b-instruct/predictions \"HTTP/1.1 201 Created\"\n",
      "2024-12-25 15:12:30,761 - INFO - HTTP Request: GET https://api.replicate.com/v1/predictions/fm34g57cphrj20ckzjma87760r \"HTTP/1.1 200 OK\"\n"
     ]
    },
    {
     "name": "stdout",
     "output_type": "stream",
     "text": [
      "\n",
      "\n",
      "According to the transcript, the other members of the Morning Brew Daily Show team are:\n",
      "\n",
      "* Emily Milian, Executive Producer\n",
      "* Raven Live, Producer\n",
      "* Olivia Graham, Associate Producer\n",
      "* You Chenoa, Technical Director\n",
      "* Billy Menino, Audio\n",
      "* Devin Emery, Chief Content Officer\n"
     ]
    }
   ],
   "source": [
    "followup = 'who are the rest of the members on the team'\n",
    "followup_answer = chat_chain({\"question\": followup, \"chat_history\": chat_history})\n",
    "print(followup_answer['answer'])"
   ]
  },
  {
   "cell_type": "code",
   "execution_count": 269,
   "metadata": {},
   "outputs": [
    {
     "name": "stderr",
     "output_type": "stream",
     "text": [
      "2024-12-25 15:12:45,424 - INFO - HTTP Request: POST https://api.replicate.com/v1/models/meta/meta-llama-3-8b-instruct/predictions \"HTTP/1.1 201 Created\"\n",
      "2024-12-25 15:12:46,674 - INFO - HTTP Request: GET https://api.replicate.com/v1/predictions/kyzs8tsb5hrj40ckzjmtnfdj90 \"HTTP/1.1 200 OK\"\n",
      "2024-12-25 15:12:51,769 - INFO - HTTP Request: POST https://api.replicate.com/v1/models/meta/meta-llama-3-8b-instruct/predictions \"HTTP/1.1 201 Created\"\n",
      "2024-12-25 15:12:53,151 - INFO - HTTP Request: GET https://api.replicate.com/v1/predictions/v7dhb6j3ynrj20ckzjmta4ahzm \"HTTP/1.1 200 OK\"\n"
     ]
    },
    {
     "name": "stdout",
     "output_type": "stream",
     "text": [
      "\n",
      "\n",
      "According to the context, the hair and makeup team is located in Mar-A-Lago.\n"
     ]
    }
   ],
   "source": [
    "followup = 'where is hair and makeup'\n",
    "followup_answer = chat_chain({\"question\": followup, \"chat_history\": chat_history})\n",
    "print(followup_answer['answer'])"
   ]
  },
  {
   "cell_type": "code",
   "execution_count": 288,
   "metadata": {},
   "outputs": [],
   "source": [
    "chat_history = []\n",
    "\n",
    "def chat(query):\n",
    "    global chat_history\n",
    "    response = chat_chain(\n",
    "        {\"question\": query, \"chat_history\": chat_history}\n",
    "    )\n",
    "    # Update chat history\n",
    "    chat_history.append((query, response[\"answer\"]))\n",
    "    return response['answer']\n",
    "\n"
   ]
  },
  {
   "cell_type": "code",
   "execution_count": 287,
   "metadata": {},
   "outputs": [
    {
     "data": {
      "text/plain": [
       "{'question': 'Where is hair and makeup?',\n",
       " 'chat_history': [('Who are the speakers of this podcast',\n",
       "   '\\n\\nBased on the provided context, the speakers of this podcast are:\\n\\n* Neal Freyman\\n* Toby Howell'),\n",
       "  ('What company do they work for?',\n",
       "   '\\n\\nAccording to the context, Neal Freyman and Toby Howell work for Morning Brew.'),\n",
       "  ('Who are the rest of the members on the production team?',\n",
       "   '\\n\\nAccording to the text, the other members of the production team of the podcast are:\\n\\n* Emily Milian, executive producer\\n* Raven live, producer\\n* Olivia Graham, associate producer\\n* You Chenoa, technical director\\n* Billy Menino, audio\\n* Devin Emery, chief content officer'),\n",
       "  ('Where is hair and makeup?',\n",
       "   '\\n\\nAccording to the context, the hair and makeup team is \"down in Mar-A-Lago\".')],\n",
       " 'answer': '\\n\\nAccording to the context, the hair and makeup team is \"down in Mar-A-Lago\".',\n",
       " 'source_documents': [Document(id='78f93b32-2d36-4b25-afa6-d085aff833c5', metadata={}, page_content=\"thinking about these things, so share this pod. Give them the drone conversation time stamp and just say thoughts. I think the rest will take care of itself. Let's roll the credits. Emily Milian is our executive producer. Raven live is our producer. Olivia Graham is our associate producer. You Chenoa is our technical director. Billy Menino is on audio. Hair makeup's got a dinner down in Mar-A-Lago. Really? He's inviting anyone. Devin Emery is our chief content officer. And our show is a\"),\n",
       "  Document(id='f7daad64-84db-47e0-b6fe-0fc66fdaecf0', metadata={}, page_content=\"maybe it's subsidized by this subscription plan that some people are talking about. One, fun story about this, the Mattel toy umbrella, whatever you want to call it. The connection between Barbie and Hot Wheels runs very deep because Hot Wheels creator Elliott Handler was married to the woman behind Barbie, Ruth Handler. If that isn't fate, or if that isn't just an aligning of these\"),\n",
       "  Document(id='e44f241d-c9fa-41a8-bf53-d2d7fdbcce16', metadata={}, page_content=\"dual threat Neal focused on road performance, but with world famous off road capability. It's the fire and ice of cars. The Toby and Neil of cars. Okay, but who's the off road power and who's the on road cruising? I think you're giving some off road vibes these days. Could be the 5:00 shadow. If you want a taste of the finer things and the wild side, build your Range Rover Sport at Land Rover usa.com.\"),\n",
       "  Document(id='3025908a-0ca1-4dd6-afc4-dee3c86912e1', metadata={}, page_content=\"in his final collegiate game ever in the NCAA tournament, so I forever have a beef with them. So to see them doing well is a little bittersweet for me. But congrats to the Catamounts! That is an awesome achievement and I will be tuning in to watch that. Okay, that is all the time we have. Thanks so much for starting your morning with us and have a wonderful start to the week. It's officially let's circle back in 2025 season in your inbox for any questions, comments or feedback, send an email to\"),\n",
       "  Document(id='50b4d092-1b48-4013-ae9d-cb0898b8d3ea', metadata={}, page_content=\"you right here last week. The extremely popular author James Patterson handed out $500 holiday bonuses to 600 employees at independent bookstores across the country. It's a tradition he started in 2015, inviting thousands of booksellers to apply and picking hundreds of winners from the nominees. In a statement, Patterson said booksellers save lives, period. I'm happy to be able to acknowledge them and all their hard work this holiday season. I mean, it does warm the heart. James Patterson is\"),\n",
       "  Document(id='90a45158-f8eb-44cc-a789-4d12ec43f07b', metadata={}, page_content='Musk. Elon Musk already has that bromance with Trump, and there is the potential that Trump or Elon Musk could use that power to cut them out of lucrative business deals. Right. He is the other power player that CEOs are also trying to figure out how to navigate the relationship, because a lot of those CEOs could be wary that Musk could just punish his business rivals, could push them to the side. Sam Altman is obviously a big one of those. Elon Musk has repeatedly sued OpenAI, saying that it'),\n",
       "  Document(id='9e701616-603b-4d0b-8414-bfb087c54061', metadata={}, page_content=\"I can't see this. It just doesn't seem like there's been much buzz about it. And then Squid Games, I can't believe, are still doing well. Mr. Beast. I know it's Mr. Beast, but still like it feels like Squid Games cultural relevance has passed. They did release another season and Squid Games on YouTube that what he recreated did do very well. But I don't know. It's hard for me to get excited. It's a two. It's a big, big deal for the creator economy, if you want to call it that. For Mr. Beast to\"),\n",
       "  Document(id='ec9cb823-934d-477d-97e1-941c2ffe75ef', metadata={}, page_content=\"strategy. So senators and other law, state lawmakers are calling on the feds to say, okay, if there is nothing, explain how you found that out and let the people know, because they're getting a little frustrated and they're getting a little worried. One thing that could be contributing to this, though, is that even if a lot of the sightings are playing, some people could be actually seeing hobbyist drones because a 2023 FAA regulatory change did allow drones to be flown at night, which could\"),\n",
       "  Document(id='e32c822d-c88d-4928-bd6d-b54e913ae875', metadata={}, page_content=\"know, we'll see what happens with this story. I think there is a push for more transparency from federal officials to just explain, just show their work, essentially. Up next, it is our winners of the weekend. Welcome to winners of the weekend, the segment where Toby and I picked two things that cemented their spot on Santa's nice list the past couple of days. I won the pre-show gingerbread house making competition. So I get to go first. My winner is anyone who hates changing the clocks twice a\"),\n",
       "  Document(id='05a82996-7c5d-46bc-ad0d-605d11b604e4', metadata={}, page_content=\"is our chief content officer. And our show is a production of Morning Brew. Great show. Danielle. Let's run it back tomorrow.\")]}"
      ]
     },
     "execution_count": 287,
     "metadata": {},
     "output_type": "execute_result"
    }
   ],
   "source": [
    "answer"
   ]
  },
  {
   "cell_type": "code",
   "execution_count": 297,
   "metadata": {},
   "outputs": [
    {
     "name": "stderr",
     "output_type": "stream",
     "text": [
      "2024-12-25 15:32:26,110 - INFO - HTTP Request: POST https://api.replicate.com/v1/models/meta/meta-llama-3-8b-instruct/predictions \"HTTP/1.1 201 Created\"\n",
      "2024-12-25 15:32:27,286 - INFO - HTTP Request: GET https://api.replicate.com/v1/predictions/7v6scc1f55rj40ckzjxt4avx2r \"HTTP/1.1 200 OK\"\n",
      "2024-12-25 15:32:28,133 - INFO - HTTP Request: GET https://api.replicate.com/v1/predictions/7v6scc1f55rj40ckzjxt4avx2r \"HTTP/1.1 200 OK\"\n",
      "2024-12-25 15:32:28,899 - INFO - HTTP Request: GET https://api.replicate.com/v1/predictions/7v6scc1f55rj40ckzjxt4avx2r \"HTTP/1.1 200 OK\"\n"
     ]
    },
    {
     "name": "stdout",
     "output_type": "stream",
     "text": [
      "Who are the speakers of this podcast\n",
      "\n",
      "\n",
      "Based on the provided context, the speakers of this podcast are:\n",
      "\n",
      "* Neal Freyman\n",
      "* Toby Howell\n"
     ]
    },
    {
     "name": "stderr",
     "output_type": "stream",
     "text": [
      "2024-12-25 15:32:29,608 - INFO - HTTP Request: POST https://api.replicate.com/v1/models/meta/meta-llama-3-8b-instruct/predictions \"HTTP/1.1 201 Created\"\n",
      "2024-12-25 15:32:30,386 - INFO - HTTP Request: GET https://api.replicate.com/v1/predictions/vent7yswt1rj40ckzjxsfthm84 \"HTTP/1.1 200 OK\"\n",
      "2024-12-25 15:32:31,144 - INFO - HTTP Request: GET https://api.replicate.com/v1/predictions/vent7yswt1rj40ckzjxsfthm84 \"HTTP/1.1 200 OK\"\n",
      "2024-12-25 15:32:31,922 - INFO - HTTP Request: GET https://api.replicate.com/v1/predictions/vent7yswt1rj40ckzjxsfthm84 \"HTTP/1.1 200 OK\"\n",
      "2024-12-25 15:32:33,451 - INFO - HTTP Request: POST https://api.replicate.com/v1/models/meta/meta-llama-3-8b-instruct/predictions \"HTTP/1.1 201 Created\"\n",
      "2024-12-25 15:32:34,208 - INFO - HTTP Request: GET https://api.replicate.com/v1/predictions/mdesjv2bq1rj40ckzjxt10zc8c \"HTTP/1.1 200 OK\"\n",
      "2024-12-25 15:32:34,970 - INFO - HTTP Request: GET https://api.replicate.com/v1/predictions/mdesjv2bq1rj40ckzjxt10zc8c \"HTTP/1.1 200 OK\"\n",
      "2024-12-25 15:32:36,327 - INFO - HTTP Request: GET https://api.replicate.com/v1/predictions/mdesjv2bq1rj40ckzjxt10zc8c \"HTTP/1.1 200 OK\"\n"
     ]
    },
    {
     "name": "stdout",
     "output_type": "stream",
     "text": [
      "Who are the speakers of this podcast\n",
      "\n",
      "\n",
      "According to the context, Neal Freyman and Toby Howell work for Morning Brew.\n"
     ]
    },
    {
     "name": "stderr",
     "output_type": "stream",
     "text": [
      "2024-12-25 15:32:36,633 - INFO - HTTP Request: POST https://api.replicate.com/v1/models/meta/meta-llama-3-8b-instruct/predictions \"HTTP/1.1 201 Created\"\n",
      "2024-12-25 15:32:37,797 - INFO - HTTP Request: GET https://api.replicate.com/v1/predictions/2fvg942r69rj40ckzjxvm12hcr \"HTTP/1.1 200 OK\"\n",
      "2024-12-25 15:32:38,556 - INFO - HTTP Request: GET https://api.replicate.com/v1/predictions/2fvg942r69rj40ckzjxvm12hcr \"HTTP/1.1 200 OK\"\n",
      "2024-12-25 15:32:39,001 - INFO - HTTP Request: POST https://api.replicate.com/v1/models/meta/meta-llama-3-8b-instruct/predictions \"HTTP/1.1 201 Created\"\n",
      "2024-12-25 15:32:39,844 - INFO - HTTP Request: GET https://api.replicate.com/v1/predictions/pkf4f9b1g9rj20ckzjxswvymac \"HTTP/1.1 200 OK\"\n",
      "2024-12-25 15:32:40,600 - INFO - HTTP Request: GET https://api.replicate.com/v1/predictions/pkf4f9b1g9rj20ckzjxswvymac \"HTTP/1.1 200 OK\"\n",
      "2024-12-25 15:32:41,358 - INFO - HTTP Request: GET https://api.replicate.com/v1/predictions/pkf4f9b1g9rj20ckzjxswvymac \"HTTP/1.1 200 OK\"\n",
      "2024-12-25 15:32:42,265 - INFO - HTTP Request: GET https://api.replicate.com/v1/predictions/pkf4f9b1g9rj20ckzjxswvymac \"HTTP/1.1 200 OK\"\n",
      "2024-12-25 15:32:43,084 - INFO - HTTP Request: GET https://api.replicate.com/v1/predictions/pkf4f9b1g9rj20ckzjxswvymac \"HTTP/1.1 200 OK\"\n",
      "2024-12-25 15:32:43,904 - INFO - HTTP Request: GET https://api.replicate.com/v1/predictions/pkf4f9b1g9rj20ckzjxswvymac \"HTTP/1.1 200 OK\"\n",
      "2024-12-25 15:32:44,668 - INFO - HTTP Request: GET https://api.replicate.com/v1/predictions/pkf4f9b1g9rj20ckzjxswvymac \"HTTP/1.1 200 OK\"\n"
     ]
    },
    {
     "name": "stdout",
     "output_type": "stream",
     "text": [
      "Who are the speakers of this podcast\n",
      "\n",
      "\n",
      "According to the text, the other members of the production team of the podcast are:\n",
      "\n",
      "* Emily Milian, executive producer\n",
      "* Raven live, producer\n",
      "* Olivia Graham, associate producer\n",
      "* You Chenoa, technical director\n",
      "* Billy Menino, audio\n",
      "* Devin Emery, chief content officer\n"
     ]
    },
    {
     "name": "stderr",
     "output_type": "stream",
     "text": [
      "2024-12-25 15:32:45,438 - INFO - HTTP Request: POST https://api.replicate.com/v1/models/meta/meta-llama-3-8b-instruct/predictions \"HTTP/1.1 201 Created\"\n",
      "2024-12-25 15:32:46,258 - INFO - HTTP Request: GET https://api.replicate.com/v1/predictions/15rmyy3tbhrj00ckzjxt1aq8p4 \"HTTP/1.1 200 OK\"\n",
      "2024-12-25 15:32:47,769 - INFO - HTTP Request: POST https://api.replicate.com/v1/models/meta/meta-llama-3-8b-instruct/predictions \"HTTP/1.1 201 Created\"\n",
      "2024-12-25 15:32:49,024 - INFO - HTTP Request: GET https://api.replicate.com/v1/predictions/ckg57jc3qdrj00ckzjxvw733nr \"HTTP/1.1 200 OK\"\n",
      "2024-12-25 15:32:49,782 - INFO - HTTP Request: GET https://api.replicate.com/v1/predictions/ckg57jc3qdrj00ckzjxvw733nr \"HTTP/1.1 200 OK\"\n"
     ]
    },
    {
     "name": "stdout",
     "output_type": "stream",
     "text": [
      "Who are the speakers of this podcast\n",
      "\n",
      "\n",
      "According to the context, the hair and makeup team is \"down in Mar-A-Lago\".\n"
     ]
    }
   ],
   "source": [
    "chat_history = []\n",
    "\n",
    "question = 'Who are the speakers of this podcast'\n",
    "answer = chat(question)\n",
    "print(question)\n",
    "print(answer)\n",
    "\n",
    "followup = 'What company do they work for?'\n",
    "answer = chat(followup)\n",
    "print(question)\n",
    "print(answer)\n",
    "\n",
    "followup = 'Who are the rest of the members on the production team?'\n",
    "answer = chat(followup)\n",
    "print(question)\n",
    "print(answer)\n",
    "\n",
    "followup = 'Where is hair and makeup?'\n",
    "answer = chat(followup)\n",
    "print(question)\n",
    "print(answer)"
   ]
  },
  {
   "cell_type": "markdown",
   "metadata": {},
   "source": [
    "### test functions"
   ]
  },
  {
   "cell_type": "code",
   "execution_count": 299,
   "metadata": {},
   "outputs": [
    {
     "name": "stderr",
     "output_type": "stream",
     "text": [
      "2024-12-25 16:07:31,187 - INFO - file_cache is only supported with oauth2client<4.0.0\n",
      "2024-12-25 16:07:32,180 - INFO - Language: English\n",
      "2024-12-25 16:07:32,181 - INFO - Language: en\n",
      "2024-12-25 16:07:32,182 - INFO - Generated automatically: False\n",
      "2024-12-25 16:07:32,183 - INFO - Translation available: True\n",
      "2024-12-25 16:07:32,184 - INFO - -----\n",
      "2024-12-25 16:07:32,185 - INFO - Found manual English transcript\n"
     ]
    },
    {
     "data": {
      "text/plain": [
       "[ChapterTranscript(chapter='Patterson bookstore bonus extravaganza', timestamp='00:00', transcript=['Good Morning Brew Daily Show.', \"I'm Neal Freyman. And I'm Toby Howell.\", \"today. It's not Barbie.\", \"It's not Lego.\", 'The best selling toy in the world is. Yeah.', \"You're going to have to wait for that then. It's a bird.\", \"It's a plane.\", \"No, it's a drone hovering over new Jersey.\", \"But in reality, it's probably a plane.\", \"It's Monday, December 16th.\", \"Let's ride.\", 'The holiday season is', 'full of heartwarming stories of generosity and giving back.', 'And I got another one for you right here last week.', 'The extremely popular author James Patterson handed out $500 holiday', 'bonuses to 600 employees at independent bookstores across the country.', \"It's a tradition he started in 2015, inviting thousands of booksellers\", 'to apply and picking hundreds of winners from the nominees.', 'In a statement, Patterson said booksellers save lives, period.', \"I'm happy to be able to acknowledge them and all their hard work\", 'this holiday season. I mean, it does warm the heart.', 'James Patterson is also a juggernaut.', 'He sold more than 425 million copies of his book.', 'His total income over the last decade is estimated at $700 million.', 'That being said, his books', 'have been described as a literary equivalent of Kentucky Fried Chicken,', \"and he's often been criticized for coauthoring a lot of his stories.\", 'But a lot of people enjoy Kentucky Fried Chicken Meal,', 'and it means some of his profits go towards these independent booksellers.', 'Sometimes you just have to tip your cap and say, that is a good deed.', 'Now, a word from our sponsor, the Range Rover Sport.', \"That's right Neil, we're finishing off the year in style.\", 'Style is a great word for it because the new Range Rover Sport oozes class.', 'Each model offers', 'a sophisticated take on sporting luxury, so you can cruise in style', 'but also get a little adventurous with its off roading capabilities.', \"It's a dual threat Neal\", 'focused on road performance, but with world famous off road capability.', \"It's the fire and ice of cars.\", 'The Toby and Neil of cars.', \"Okay, but who's the off road power and who's the on road cruising?\", \"I think you're giving some off road vibes these days.\", 'Could be the 5:00 shadow.', 'If you want a taste of the finer things and the wild side, build', 'your Range Rover Sport at Land Rover usa.com.']),\n",
       " ChapterTranscript(chapter='Tech CEOs donate to Trump', timestamp='2:15', transcript=[\"Today, America's top tech moguls are marching one\", 'by one to Mar a Lago, a pilgrimage they hope will repair a rocky relationship', 'with president elect Trump and curry favor with the upcoming administration.', \"Last week, it was Google's Sundar Pichai and Apple's\", 'Tim Cook making the trek from California to Palm Beach.', \"Before Thanksgiving, it was Meta's Mark Zuckerberg, and this week,\", 'Amazon founder Jeff Bezos will have dinner with Trump.', 'Meanwhile, meta, Amazon and OpenAI Sam Altman are writing checks to Trump,', 'with all three saying', 'last week they would contribute $1 million to his inaugural fund.', 'For some historical context, it is not unusual for CEOs to cozy up', 'to an incoming administration.', 'The white House sets policies that will have major impacts on their companies,', 'and they want to make sure their interests are being heard.', 'This has been going on for decades,', 'but for the tech industry in particular, it is a striking reversal.', 'Silicon Valley and Trump were no fans of each other', 'during his first stint in the white House, and shortly thereafter.', \"It's certainly a sign of the times that Salesforce CEO Marc Benioff, who\", 'a few years ago had been a major Democratic supporter, said', 'last week it was a time of great promise for our nation.', 'Yeah.', 'After keeping the Trump administration or the Trump campaign out', \"a little bit of an arm's length during the campaign season,\", 'a lot of these CEOs are saying, you know what?', 'I do not want to risk being on bad terms with Trump.', \"Let's go speak with him face to face.\", \"Let's go to Mar-A-Lago\", \"and just see what he's about and see if we can create this relationship.\", 'The thing about some of these inaugural fund donations, too, is', 'what it does is guarantee you some face time with Trump and Vance,', 'because donors to the, inauguration fund do', 'get invitation to inauguration ball access to a candlelit dinner with the Trumps.', 'And then, they also have a access to reception with the cabinet picks.', 'So what you are seeing is paying $1 million, saying, like,', 'I do want to have more opportunities to have FaceTime with you.', 'And also one thing about inaugural committees', 'is that they are pretty low stakes in terms of donations.', 'They are seen as a very normal thing for companies to do, to seek favor.', 'There is a little bit of a guise of patriotism attached', 'to it as well, without being seen as like overly partizan.', \"So I wouldn't read too much into the fact that they're all donating exactly\", '$1 million, because it does give you access to the events,', 'and it is a rather normal thing to do to an incoming administration.', 'I want to talk about one of these, tech moguls that is going to Mar-A-Lago', 'this week, Jeff Bezos, because I think he is a good example', 'of what can happen when the relationship with the president goes sour.', \"During the first administration, Trump's first administration, he repeatedly bashed\", 'Jeff Bezos, who owns the Washington Post, for negative coverage.', 'And that did translate to the business world.', 'You know, Amazon contends', 'that they lost out on a $10 billion cloud computing contract', 'with the federal government to Microsoft because Trump did not like Bezos.', 'So that was a big business impact,', 'for Amazon because of that rocky relationship.', \"So now you're seeing Bezos make the trek to Mar-A-Lago.\", 'He moved to South Florida.', \"Reportedly, he's become friends with Jared and Ivanka down there,\", \"and he's hoping to make them\", \"not make amends because he probably thinks he didn't do anything wrong.\", 'But, trying to trying to reestablish that relationship', 'because the one thing all these guys have in common', \"is they're catching up to Elon Musk.\", 'Elon Musk already has that bromance with Trump,', 'and there is the potential that Trump or Elon Musk', 'could use that power to cut them out of lucrative business deals.', 'Right.', 'He is the other power player that CEOs are also trying to figure out', 'how to navigate the relationship, because a lot of those CEOs could be wary', 'that Musk could just punish his business rivals, could push them to the side.', 'Sam Altman is obviously a big one of those.', 'Elon Musk has repeatedly sued OpenAI, saying that it for so,', 'or it went back on its promise to be this, open company.', 'And it now is a for profit entity.', 'Altman has said that he hopes or he thinks Elon will do the right thing', 'because he said it would be,', 'quote, profoundly un-American to use political power to the degree', 'that Elon has it to hurt your competitors and advantage your own businesses.', 'So, I mean, that is that could be a very optimistic look at the situation.', 'But, the reality is that Elon now has a ton of power in the administration.', 'He could wield it one way or the other.', 'And CEOs are trying to figure out', 'how to navigate him as well as navigate Donald Trump.', 'There is a new entrant into the 13 figure club.']),\n",
       " ChapterTranscript(chapter='Broadcom quietly cashin’ in', timestamp='6:40', transcript=['Chipmaker Broadcom.', 'Pull up a chair to sit at the $1 trillion market cap table just before the weekend.', 'After reporting a breakout fourth quarter earnings, the stock jumped 24%', 'to creep into uncharted territory and is now doubled in value this year.', \"Unsurprisingly, it's been AI that has pushed Broadcom into the big leagues.\", 'It supplies advanced AI hardware to big tech companies much like Nvidia,', 'but also has a robust software business as well.', 'AI revenue is up 220% this year.', \"And it's got to the point that when Broadcom does well, shares\", 'of Nvidia and competitors like AMD shrink on fears that incumbent', 'AI stalwarts could lose market share to the surging Broadcom.', \"Looking forward, the company's CEO, Hock Tan, expects its AI opportunity to reach\", '$90 billion by 2027, powered by what it calls Hyperscaler customers,', 'which are those companies like Meta and Google that require large scale', 'data centers?', 'You know,', 'Broadcom is not a name that a lot of people know off the top of their heads,', 'but they will soon.', 'The last time I will say I thought about Broadcom was six years ago in 2018.', 'And that was when Broadcom tried to buy Qualcomm for $120 billion.', 'It would be one of the biggest, if not the biggest tech acquisitions of all time.', 'Trump speaking of Trump, he blocked that deal from going forward', 'because at the time Broadcom was based in Singapore', 'and it was blocked over national security concerns.', 'Turns out Broadcom did not name Qualcomm at all.', 'Since 2018, Broadcom shares are up 760%.', \"Qualcomm's up 165% and the S&P 500 is up 119%.\", 'So Broadcom easily outpacing the other guys.', \"And that's really because of this AI revolution with ChatGPT\", 'in 2022 sales of its AI chips are up a lot.', 'Sales of its non AI chips are down.', 'So without AI Broadcom is probably looking more like Qualcomm.', \"And now it's in the $1 trillion club.\", 'That being said though, its CEO Hock Tan loves to take these big swings.', 'I mean it tried to swing acquire Qualcomm for the biggest tech acquisition ever.', \"But it's also recently bought VMware for $61 billion.\", 'VMware helps with, server virtualization.', \"They also that VMware deal only trails Microsoft's acquisition of Activision\", \"Blizzard and Dell's, Dell purchase as the biggest tech deals ever.\", 'It also agreed to buy this software vendor in 2018.', 'For $19 billion.', 'It had another acquisition of a security company for $10 billion in 2019.', 'So Hock Tan does like going on these shopping sprees.', 'He does like to acquire as a means to grow Broadcom.', 'But Broadcom is a little bit different', 'than Nvidia in the sense that Nvidia sells GPUs.', 'Graphic processing units.', 'Broadcom calls its version of GPUs exposed,', 'which are just slightly different.', 'They are a little bit more advanced.', \"These chips aren't for just your everyday company.\", 'They are only for the companies that really want to push to the edge of,', 'efficiency and power.', '20, 30% faster, 20, 30% less power.', 'So you have to be a Google. You have to be a matter.', 'You have to be a Microsoft to actually find use in that.', 'But luckily those companies are spending very, very big on AI.', 'And so Broadcom is in a pretty solid position right now.', \"They're spending $59 billion in the last quarter alone.\", \"That's four companies alphabet Amazon\", 'meta and Microsoft spent $59 billion on capital expenditures.', 'A lot of that is going to Nvidia. A lot of that is going to Broadcom.', \"That's about 18% of their total revenue over the quarter.\", 'So a very concentrated group of customers.', 'You know you ever talk about having a you know a very specialized customer base.', 'They have you know, 3 or 4 customers.', 'So it really the fortunes depend on whether these companies continue to spend', 'or they pull back.', 'And now it is $1 trillion.', 'That is pretty crazy because', \"you definitely haven't heard of Broadcom unless you're pretty plugged into\", 'maybe the chip industry.', 'But now it is literally part of that 13 figure club.', 'The rumor mill is still buzzing about the drones flying over']),\n",
       " ChapterTranscript(chapter='What is up with drones??', timestamp='10:45', transcript=['new Jersey with more questions and answers emerging over the weekend.', 'To recap, new Jersey residents have been bewildered over', 'the past few weeks due to drones buzzing over their state.', 'A U.S.', 'Army research facility has reported 11 confirmed instances of drones', 'illegally entering its airspace, while more than a dozen drones', 'have been spotted over a US naval weapons station since early December.', 'sightings have also been reported in six counties across the state,', 'prompting US lawmakers to get more involved.', 'US Senator Chuck Schumer called on the Department of Homeland Security', 'to deploy a recently declassified tech that can ID and track drones', 'back to their landing spots in an effort to get to the bottom of the sightings.', 'As for what we do know, officials from Homeland Security', \"say that the drones don't appear to be linked to foreign governments.\", 'While the FBI is pretty sure a lot of people have just been seeing', 'planes, quote, many of the reported drone sightings are in fact,', 'manned aircraft being misidentified as drones, they said in a statement.', \"Either way, Neal, we're now multiple weeks into these\", 'sightings, and still no one has really gotten to the bottom of things.', \"No. They have they don't know what's going on.\", 'This really dominated the Sunday talk shows yesterday.', 'Everyone was talking about,', 'I know you were busy watching Manchester City, Manchester United,', 'but there are tons of lawmakers going on these shows talking about the drone issue.', 'It is certainly raised to the national level', \"because it's not just new Jersey,\", \"it's also Connecticut, New York and Maryland as well.\", 'On Friday night, they had to shut down Stewart International Airport,', 'about 60 miles north of New York City,', 'in order to deal with a drone issue.', 'So the question here is, are these benign?', 'Like, what is going on?', 'Are these planes are these actual is there actual a drone infestation?', \"Senator Andy Kim, who's, from new Jersey, a senator for new Jersey,\", 'said he went out on local patrol with police in new Jersey', 'and said that after going out with the police to observe reports', 'of possible drones, the AI concluded that most of the drone', 'sightings that were pointed out to me were almost certainly planes.', 'That said, he criticized information delivery from federal officials, saying', \"they weren't being transparent and that they should in their public communication,\", 'just compare this to a crisis CEO moment that you want to be', 'as transparent as possible.', 'Explain your reasoning, because right now the Pentagon and the FBI are saying,', \"guys, it's not a big deal. They're everything's legal.\", \"They are planes. You're making all this up.\", \"That's just like, not a good community.\", 'Like a good, effective communication strategy.', 'So senators and other law, state lawmakers are calling on the feds to say,', 'okay,', 'if there is nothing, explain how you found that out', \"and let the people know, because they're getting\", \"a little frustrated and they're getting a little worried.\", 'One thing that could be contributing to this, though, is that even if a lot of', 'the sightings are playing, some people could be actually seeing hobbyist drones', 'because a 2023 FAA regulatory change did allow drones to be flown at night,', 'which could possibly be behind some of the, increase in sightings.', 'Plus U.S.', 'law does really limit how the U.S.', 'military can actually respond to drones.', \"They're not allowed to just shoot them\", 'out of the air as they do need special authorization.', 'They need to give', 'special authorization to local authorities to deal with drones as well.', 'And so maybe a combination of those two factors is leading to an increase', 'in sightings.', 'It could', 'I mean, we could be talking about literally just a few pranksters', \"or someone flying these drones around because they're allowed to at night,\", \"even though they aren't allowed to go into FAA restricted airspace.\", 'But still,', 'maybe those are some of the factors that are contributing this as well.', \"It's completely legal.\", \"Like they're there's 800,000 drone registrations\", 'now, which is the equivalent of the population of San Francisco.', 'So there are a lot of drones flying around.', 'You can fly them around at night.', \"It's legal to fly a drone in most locations below 400ft.\", \"You don't really need anything else to send a drone up there.\", \"So, you know, there's they're like, there's nothing we can do.\", \"Like we can't shoot them down because we're not allowed to shoot down\", \"random drones that are flying legally because there's collateral damage\", 'over the local area and things like that.', \"So, you know, we'll see what happens with this story.\", 'I think there is a push for more transparency', 'from federal officials to just explain, just show their work, essentially.', 'Up next, it is our winners of the weekend.', 'Welcome to', 'winners of the weekend, the segment where Toby and I picked two things', \"that cemented their spot on Santa's nice list the past couple of days.\", 'I won the pre-show gingerbread house making competition.', 'So I get to go first.', 'My winner is anyone who hates changing the clocks twice a year, because now']),\n",
       " ChapterTranscript(chapter='Trump wants to end Daylight Saving Time', timestamp='15:10', transcript=['you have the most powerful person in the world on your side.', 'Friday night, President elect Trump wrote on Truth Social that he wants to end', 'daylight saving', 'time, calling it, quote, inconvenient and very costly to our nation.', \"He said he'll work with Republicans\", 'to make standard time permanent when he takes office.', 'Just as a refresher, the idea behind daylight', 'saving time is to shift an hour of sunlight from the morning', 'to the evening during the summer months, so that people can enjoy the daylight', 'during their time off from work and spend money to juice the economy.', 'It became federal law in 1966, so now every state besides Hawaii and Arizona', 'spring their clocks forward in March and fall back after Halloween every year.', 'Toby, this debate has been raging for decades,', 'and even though Americans say', \"they don't want to keep changing the clocks,\", \"there's been a little political appetite to change it.\", 'Maybe Trump', 'getting on board will give it the juice it needs to get across the finish line.', 'You can make a lot of arguments for either side of this.', 'Whether you want to stay with standard time or move to permanent', 'daylight saving time is one of them is consumer spending.', \"Most people say that when people spend money after work, it's\", 'better to have more sunshine available because you would go to stores', \"because it's still light out.\", 'That being said,', 'online shopping is a lot of people do most of their shopping these days.', \"So does it really matter if it's light or dark out?\", 'Another thing too,', 'is that daylight Savings Time is supposed to make your electric bill cheaper,', \"but there hasn't been really any agreement\", 'on whether it actually does lower energy use.', 'And then finally, sleep and health is a big one as well.', \"Standard time when it's lighter in the mornings\", 'does help your circadian rhythm, because getting that sunlight.', 'Anyone who listens to,', 'you know, the Andrew Huberman pod knows that daylight exposure to sunlight', \"exposure is probably good for you, provides a better night's sleep\", 'because it gets you on the screen with rhythm.', 'But also more sunlight in the evenings is probably good', 'for your mental health as well,', 'because no one likes it being dark when you when you leave work every day.', 'So for every argument for one side of the equation,', 'some people have another argument arguing for the opposite right?', 'But permanent standard time is just better.', \"Oh, so Neil clearly thinks I'm clearly on that side.\", 'More sunlight in the morning.', 'But I want to talk about this discrepancy', 'because Trump said that he wants permanent standard time,', \"which you don't believe because you think he messed up,\", 'because Trump, because the general political consensus.', 'There have been bills introduced in 2022 and 2023 by Marco Rubio, a Republican', 'wanting permanent daylight saving time, because that is where you get the most.', 'You maximize the evening sunlight, which seems to be a little more', 'politically palatable,', 'permanent standard time is the one of is what people like wonky.', 'You know, the wonks want the sleep association, the medical health experts.', \"That's they want permanent standard time.\", 'But in terms of, you know, what is more politically feasible?', \"It's daylight saving time permanent.\", 'So you think that he maybe misspoke here and wants daylight saving time permanent?', 'Yeah.', 'When I think when he said he wants to end daylight saving,', 'he means he wants to make daylight saving permanent', 'because that is what he expressed support for back in 2019.', 'He tweeted out support for permanent DST back in 2019.', \"So I do think that by ending it, he just means we don't want to shift\", 'clocks anymore, pick one way or the other, right? And I think the way,', 'based off', 'his previous statements is he wants to make DST permanent.', 'My win over the weekend is Hot Wheels because they are on fire right now.']),\n",
       " ChapterTranscript(chapter='Hot Wheels lead the way', timestamp='18:30', transcript=['The 56 year old brand is the best selling toy', 'in the world, according to the market research firm Circrna.', 'With fans stretching from three year olds all the way up to 63 year olds.', \"It's one of the stand out lines under the Mattel umbrella, going toe\", 'to toe the likes of Barbie, and saw its sales grow 14%', 'to reach nearly $1.5 billion last year.', 'At its current pace, Mattel sells 22.5 Hot Wheels', 'cars per second, good for 791 million cars a year.', 'You know, a lot of trends are taking Hot Wheels into high gear.', 'One, they are cheap, but most starting at just one dollars and $0.25 apiece, too.', 'Nostalgia is in right now, and these cars evoke warm feelings of childhood fun.', 'And three there is a major collector scene with adults fanatics', 'driving about one third of global revenue, according to the company.', 'The only way I can describe it, Neil, is Hot Wheels is hot.', 'They are hot.', \"They are also licensing their IP, which you're seeing\", 'from Barbie and other toy brands, is a great way to maximize revenue.', \"Of course, there's a Hot Wheels, movie coming on the heels of Barbie.\", 'Mattel is like,', 'oh well, Barbie sales jumped 16% after it released the Barbie movie.', \"You know, let's do that for Hot Wheels too.\", \"That's already growing at 14% a year.\", \"Why don't we do sales even more?\", 'I think, you know, I think they just have so many.', 'We talked about Broadcom having a very narrow customer base.', 'Hot wheels has literally everybody on the planet', 'buying Hot Wheels for various different reasons.', 'You have the kids that want it just for fun.', 'You have the adults that are literally paying $99', 'a year for a subscription to get the latest collectible models.', 'That is recurring revenue for a toy company.', \"That's kind of unheard of.\", 'So this company is clicking on all cylinders,', \"and it just goes back to maybe American's love affair with cars.\", 'It really does.', \"I do think you can't overlook price either, because selling for a $1.25\", \"a piece, that's a big draw in an inflationary environment,\", 'especially if you think if you actually do', 'the math, the toys cost less today than they did in 1968.', 'They retailed for about 69 to $0.89 back in the 60s and 70s.', \"But that's roughly 6 to $8 in today's dollars.\", \"So it's one I want to know where are they making these?\", 'I know their level of craftsmanship cannot be right.', 'There has been a little bit of pushback because people have shown the bottom', \"of Hot Wheels cars and how over time, they've been a little simplified.\", \"Because you're right, they are producing a lot.\", 'But one of the things is, I mean,', \"I mentioned that they're selling 22.5 Hot Wheels toys per second.\", \"They're also making 22.5 Hot Wheels toys per second.\", 'So that level of scale allows them to sell them for very cheaply.', \"And maybe it's subsidized\", 'by this subscription plan that some people are talking about.', 'One, fun story about this, the Mattel toy umbrella, whatever you want to call it.', 'The connection between Barbie and Hot Wheels runs very deep because Hot Wheels', 'creator Elliott Handler was married to the woman behind Barbie, Ruth Handler.', \"If that isn't fate, or if that isn't just an aligning of these\"]),\n",
       " ChapterTranscript(chapter='Week Ahead', timestamp='21:30', transcript=[\"toy forces and I don't know what is, it's Monday,\", 'and as per tradition here are the events you need to know about for the week ahead.', 'The fed is holding its final meeting of the year', \"on Wednesday, and it's overwhelmingly expected to cut rates.\", 'A standard quarter percentage point, the third rate cut this year.', \"Well, that's pretty much locked in.\", 'The big question mark is its rate path.', 'In 2025.', 'Inflation is proving to be more stubborn than anticipated, hovering above that', '2% target.', \"And Trump's economic policies like tariffs could complicate the picture even more.\", 'Economists surveyed by Bloomberg have a median estimate of three rate cuts.', \"Next year, but we'll see what Jay Powell says.\", \"This might be the last meeting where we know what's going to happen,\", 'because there are just so many question marks on the horizon.', 'Does inflation that just jump back up or are these tariffs', 'going to be more of a bargaining chip', \"if they do go into effect and jack up prices, that's when the situation\", 'becomes a little murky.', 'Because how can you go ahead with rate cuts', 'if you see inflation starting to creep back in.', \"Probably camp baby. It's cold outside.\", \"And if you plan on hunkering down, there's plenty to watch on the screen, big\", 'and small, Mr.', 'Beast Squid Game inspired a competition show beast games', 'hits Amazon Prime Video on Thursday, offering a grand prize of $5 million.', 'Mufasa, the prequel to 2019 live action Lion King, arrives in theaters on Friday.', 'And then, if you want to impress your film major friends, go see Oscar', 'contender The Brutal List starring Adrien Brody, also out on Friday.', \"I don't know, I mean, the only one I'm interested in is the brutalist\", \"because The Lion King prequel I just haven't seen much buzz about.\", 'Even though 2019 Lion King grossed $1.7', 'billion worldwide, that is a gigantic number.', \"I can't see this.\", \"It just doesn't seem like there's been much buzz about it.\", \"And then Squid Games, I can't believe, are still doing well.\", 'Mr. Beast.', \"I know it's Mr.\", 'Beast, but still like it feels like Squid Games cultural relevance has passed.', 'They did release another season', 'and Squid Games on YouTube that what he recreated did do very well.', \"But I don't know. It's hard for me to get excited.\", \"It's a two.\", \"It's a big, big deal for the creator economy, if you want to call it that.\", 'For Mr.', 'Beast to move beyond YouTube to the streaming and TV realm.', \"So we'll see how that goes out. I mean, I'm not gonna lie.\", \"Let's be honest.\", \"In sports, here's an awesome story.\", 'The University of Vermont', 'will play in its first ever championship game in any sport tonight,', \"when the Catamounts take on Marshall for the men's soccer title tonight.\", 'No disrespect to the Catamounts, but they eliminated my younger brother', 'in his final collegiate game', 'ever in the NCAA tournament, so I forever have a beef with them.', 'So to see them doing well is a little bittersweet for me.', 'But congrats to the Catamounts!', 'That is an awesome achievement and I will be tuning in to watch that.', 'Okay, that is all the time we have.', 'Thanks so much for starting your morning', 'with us and have a wonderful start to the week.', \"It's officially let's circle back in 2025 season in your inbox for any questions,\", 'comments or feedback, send an email to Morning Brew Daily at Morning brew.com.', \"And if you're a satisfied customer and want to help grow this podcast,\", 'share it with friends, family, and coworkers who are lacking a solid news', 'roundup in the morning.', \"For everyone with shares block, Toby's got our recommendation.\", 'I want you to share the podcast with someone who has a theory about', 'the drones.', \"I know you got an uncle or a cousin who's been thinking about these things,\", 'so share this pod.', 'Give them the drone conversation time stamp and just say thoughts.', 'I think the rest will take care of itself.', \"Let's roll the credits.\", 'Emily Milian is our executive producer.', 'Raven live is our producer.', 'Olivia Graham is our associate producer.', 'You Chenoa is our technical director.', 'Billy Menino is on audio.', \"Hair makeup's got a dinner down in Mar-A-Lago.\", 'Really?', \"He's inviting anyone.\", 'Devin Emery is our chief content officer.', 'And our show is a production of Morning Brew.', \"Great show. Danielle. Let's run it back tomorrow.\"])]"
      ]
     },
     "execution_count": 299,
     "metadata": {},
     "output_type": "execute_result"
    }
   ],
   "source": [
    "from data.get_youtube_data import YouTubeDataFetcher\n",
    "from data.preprocess import merge_chapter_transcript\n",
    "\n",
    "youtube_url = \"https://www.youtube.com/watch?v=QlUcyaXiXPE&ab_channel=MorningBrewDaily\"\n",
    "youtube = YouTubeDataFetcher()\n",
    "meta_data = youtube.get_meta_data(youtube_url)\n",
    "\n",
    "chapter_transcript = merge_chapter_transcript(meta_data)\n",
    "chapter_transcript"
   ]
  },
  {
   "cell_type": "code",
   "execution_count": 307,
   "metadata": {},
   "outputs": [
    {
     "data": {
      "text/plain": [
       "{'question': 'Where is hair and makeup?',\n",
       " 'chat_history': [('Who are the speakers of this podcast',\n",
       "   '\\n\\nBased on the provided context, the speakers of this podcast are:\\n\\n* Neal Freyman\\n* Toby Howell'),\n",
       "  ('What company do they work for?',\n",
       "   '\\n\\nAccording to the context, Neal Freyman and Toby Howell work for Morning Brew.'),\n",
       "  ('Who are the rest of the members on the production team?',\n",
       "   '\\n\\nAccording to the text, the other members of the production team of the podcast are:\\n\\n* Emily Milian, executive producer\\n* Raven live, producer\\n* Olivia Graham, associate producer\\n* You Chenoa, technical director\\n* Billy Menino, audio\\n* Devin Emery, chief content officer'),\n",
       "  ('Where is hair and makeup?',\n",
       "   '\\n\\nAccording to the context, the hair and makeup team is \"down in Mar-A-Lago\".')],\n",
       " 'answer': '\\n\\nAccording to the context, the hair and makeup team is \"down in Mar-A-Lago\".',\n",
       " 'source_documents': [Document(id='a3929022-0a9a-4dc5-b71f-8ac30acb7c7f', metadata={}, page_content=\"thinking about these things, so share this pod. Give them the drone conversation time stamp and just say thoughts. I think the rest will take care of itself. Let's roll the credits. Emily Milian is our executive producer. Raven live is our producer. Olivia Graham is our associate producer. You Chenoa is our technical director. Billy Menino is on audio. Hair makeup's got a dinner down in Mar-A-Lago. Really? He's inviting anyone. Devin Emery is our chief content officer. And our show is a\"),\n",
       "  Document(id='1486b61c-8a06-4b8a-b3ed-b6ddbee1fd19', metadata={}, page_content=\"maybe it's subsidized by this subscription plan that some people are talking about. One, fun story about this, the Mattel toy umbrella, whatever you want to call it. The connection between Barbie and Hot Wheels runs very deep because Hot Wheels creator Elliott Handler was married to the woman behind Barbie, Ruth Handler. If that isn't fate, or if that isn't just an aligning of these\"),\n",
       "  Document(id='04ffaa77-f70a-4e99-acc0-079edcc65fba', metadata={}, page_content=\"dual threat Neal focused on road performance, but with world famous off road capability. It's the fire and ice of cars. The Toby and Neil of cars. Okay, but who's the off road power and who's the on road cruising? I think you're giving some off road vibes these days. Could be the 5:00 shadow. If you want a taste of the finer things and the wild side, build your Range Rover Sport at Land Rover usa.com.\"),\n",
       "  Document(id='c934df9e-453e-4e09-81df-25ee5514dab4', metadata={}, page_content=\"in his final collegiate game ever in the NCAA tournament, so I forever have a beef with them. So to see them doing well is a little bittersweet for me. But congrats to the Catamounts! That is an awesome achievement and I will be tuning in to watch that. Okay, that is all the time we have. Thanks so much for starting your morning with us and have a wonderful start to the week. It's officially let's circle back in 2025 season in your inbox for any questions, comments or feedback, send an email to\"),\n",
       "  Document(id='00fb4d13-7bc6-4516-ad6b-fab3591519e3', metadata={}, page_content=\"you right here last week. The extremely popular author James Patterson handed out $500 holiday bonuses to 600 employees at independent bookstores across the country. It's a tradition he started in 2015, inviting thousands of booksellers to apply and picking hundreds of winners from the nominees. In a statement, Patterson said booksellers save lives, period. I'm happy to be able to acknowledge them and all their hard work this holiday season. I mean, it does warm the heart. James Patterson is\"),\n",
       "  Document(id='143390f1-0135-4f5f-bbb8-b5319be0fe0d', metadata={}, page_content='Musk. Elon Musk already has that bromance with Trump, and there is the potential that Trump or Elon Musk could use that power to cut them out of lucrative business deals. Right. He is the other power player that CEOs are also trying to figure out how to navigate the relationship, because a lot of those CEOs could be wary that Musk could just punish his business rivals, could push them to the side. Sam Altman is obviously a big one of those. Elon Musk has repeatedly sued OpenAI, saying that it'),\n",
       "  Document(id='cc596159-3ac8-4f5a-9c41-38cb7b383fe6', metadata={}, page_content=\"I can't see this. It just doesn't seem like there's been much buzz about it. And then Squid Games, I can't believe, are still doing well. Mr. Beast. I know it's Mr. Beast, but still like it feels like Squid Games cultural relevance has passed. They did release another season and Squid Games on YouTube that what he recreated did do very well. But I don't know. It's hard for me to get excited. It's a two. It's a big, big deal for the creator economy, if you want to call it that. For Mr. Beast to\"),\n",
       "  Document(id='bbf3614d-8aff-418b-b879-89ef22593b03', metadata={}, page_content=\"strategy. So senators and other law, state lawmakers are calling on the feds to say, okay, if there is nothing, explain how you found that out and let the people know, because they're getting a little frustrated and they're getting a little worried. One thing that could be contributing to this, though, is that even if a lot of the sightings are playing, some people could be actually seeing hobbyist drones because a 2023 FAA regulatory change did allow drones to be flown at night, which could\"),\n",
       "  Document(id='9bcb88d3-7064-4595-ab0c-86ccccbea8b0', metadata={}, page_content=\"know, we'll see what happens with this story. I think there is a push for more transparency from federal officials to just explain, just show their work, essentially. Up next, it is our winners of the weekend. Welcome to winners of the weekend, the segment where Toby and I picked two things that cemented their spot on Santa's nice list the past couple of days. I won the pre-show gingerbread house making competition. So I get to go first. My winner is anyone who hates changing the clocks twice a\"),\n",
       "  Document(id='167e2842-e002-4351-9776-581c76343bfa', metadata={}, page_content=\"is our chief content officer. And our show is a production of Morning Brew. Great show. Danielle. Let's run it back tomorrow.\")]}"
      ]
     },
     "execution_count": 307,
     "metadata": {},
     "output_type": "execute_result"
    }
   ],
   "source": [
    "response"
   ]
  },
  {
   "cell_type": "code",
   "execution_count": 306,
   "metadata": {},
   "outputs": [
    {
     "name": "stderr",
     "output_type": "stream",
     "text": [
      "2024-12-25 16:13:42,322 - INFO - Use pytorch device_name: mps\n",
      "2024-12-25 16:13:42,325 - INFO - Load pretrained SentenceTransformer: sentence-transformers/all-mpnet-base-v2\n",
      "2024-12-25 16:13:57,594 - INFO - HTTP Request: GET https://api.replicate.com/v1/models/meta/meta-llama-3-8b-instruct \"HTTP/1.1 200 OK\"\n",
      "2024-12-25 16:13:58,523 - INFO - HTTP Request: POST https://api.replicate.com/v1/models/meta/meta-llama-3-8b-instruct/predictions \"HTTP/1.1 201 Created\"\n",
      "2024-12-25 16:13:59,947 - INFO - HTTP Request: GET https://api.replicate.com/v1/predictions/g7k62xhq1drj40ckzkgv8acfy4 \"HTTP/1.1 200 OK\"\n"
     ]
    },
    {
     "name": "stdout",
     "output_type": "stream",
     "text": [
      "Who are the speakers of this podcast\n",
      "\n",
      "\n",
      "Based on the provided context, the speakers of this podcast are:\n",
      "\n",
      "* Neal Freyman\n",
      "* Toby Howell\n"
     ]
    },
    {
     "name": "stderr",
     "output_type": "stream",
     "text": [
      "2024-12-25 16:14:00,737 - INFO - HTTP Request: POST https://api.replicate.com/v1/models/meta/meta-llama-3-8b-instruct/predictions \"HTTP/1.1 201 Created\"\n",
      "2024-12-25 16:14:01,494 - INFO - HTTP Request: GET https://api.replicate.com/v1/predictions/mbsvdf1zp1rj00ckzkgsedcx7m \"HTTP/1.1 200 OK\"\n",
      "2024-12-25 16:14:01,914 - INFO - HTTP Request: POST https://api.replicate.com/v1/models/meta/meta-llama-3-8b-instruct/predictions \"HTTP/1.1 201 Created\"\n",
      "2024-12-25 16:14:02,672 - INFO - HTTP Request: GET https://api.replicate.com/v1/predictions/mbwqfvj4jhrj00ckzkgv04fswr \"HTTP/1.1 200 OK\"\n"
     ]
    },
    {
     "name": "stdout",
     "output_type": "stream",
     "text": [
      "What company do they work for?\n",
      "\n",
      "\n",
      "According to the context, Neal Freyman and Toby Howell work for Morning Brew.\n"
     ]
    },
    {
     "name": "stderr",
     "output_type": "stream",
     "text": [
      "2024-12-25 16:14:02,958 - INFO - HTTP Request: POST https://api.replicate.com/v1/models/meta/meta-llama-3-8b-instruct/predictions \"HTTP/1.1 201 Created\"\n",
      "2024-12-25 16:14:03,713 - INFO - HTTP Request: GET https://api.replicate.com/v1/predictions/j5c4e928n9rj00ckzkgrcmavg0 \"HTTP/1.1 200 OK\"\n",
      "2024-12-25 16:14:05,184 - INFO - HTTP Request: POST https://api.replicate.com/v1/models/meta/meta-llama-3-8b-instruct/predictions \"HTTP/1.1 201 Created\"\n",
      "2024-12-25 16:14:06,517 - INFO - HTTP Request: GET https://api.replicate.com/v1/predictions/gtngcqthb1rj20ckzkgskvm484 \"HTTP/1.1 200 OK\"\n"
     ]
    },
    {
     "name": "stdout",
     "output_type": "stream",
     "text": [
      "Who are the rest of the members on the production team?\n",
      "\n",
      "\n",
      "According to the text, the other members of the production team of the podcast are:\n",
      "\n",
      "* Emily Milian, executive producer\n",
      "* Raven live, producer\n",
      "* Olivia Graham, associate producer\n",
      "* You Chenoa, technical director\n",
      "* Billy Menino, audio\n",
      "* Devin Emery, chief content officer\n"
     ]
    },
    {
     "name": "stderr",
     "output_type": "stream",
     "text": [
      "2024-12-25 16:14:06,805 - INFO - HTTP Request: POST https://api.replicate.com/v1/models/meta/meta-llama-3-8b-instruct/predictions \"HTTP/1.1 201 Created\"\n",
      "2024-12-25 16:14:07,555 - INFO - HTTP Request: GET https://api.replicate.com/v1/predictions/jz7ezgjqp1rj60ckzkgrzwgks4 \"HTTP/1.1 200 OK\"\n",
      "2024-12-25 16:14:08,444 - INFO - HTTP Request: POST https://api.replicate.com/v1/models/meta/meta-llama-3-8b-instruct/predictions \"HTTP/1.1 201 Created\"\n",
      "2024-12-25 16:14:09,320 - INFO - HTTP Request: GET https://api.replicate.com/v1/predictions/f884tejy2srj00ckzkgvs4p5z4 \"HTTP/1.1 200 OK\"\n"
     ]
    },
    {
     "name": "stdout",
     "output_type": "stream",
     "text": [
      "Where is hair and makeup?\n",
      "\n",
      "\n",
      "According to the context, the hair and makeup team is \"down in Mar-A-Lago\".\n"
     ]
    }
   ],
   "source": [
    "from src.vectorstore import get_retriever\n",
    "from src.chat import chat, get_chat_chain\n",
    "\n",
    "retriever = get_retriever(chapter_transcript)\n",
    "chat_chain = get_chat_chain(retriever)\n",
    "\n",
    "chat_history = []\n",
    "query = 'Who are the speakers of this podcast'\n",
    "response, chat_history = chat(query, chat_chain, chat_history)\n",
    "print(query)\n",
    "print(response['answer'])\n",
    "\n",
    "query = 'What company do they work for?'\n",
    "response, chat_history = chat(query, chat_chain, chat_history)\n",
    "print(query)\n",
    "print(response['answer'])\n",
    "\n",
    "query = 'Who are the rest of the members on the production team?'\n",
    "response, chat_history = chat(query, chat_chain, chat_history)\n",
    "print(query)\n",
    "print(response['answer'])\n",
    "\n",
    "query = 'Where is hair and makeup?'\n",
    "response, chat_history = chat(query, chat_chain, chat_history)\n",
    "print(query)\n",
    "print(response['answer'])\n"
   ]
  },
  {
   "cell_type": "markdown",
   "metadata": {},
   "source": [
    "## without LangChain"
   ]
  },
  {
   "cell_type": "code",
   "execution_count": 278,
   "metadata": {},
   "outputs": [],
   "source": [
    "def generate_response_with_context(user_query):\n",
    "    global chat_history\n",
    "    # Retrieve relevant chunks\n",
    "    retrieved_chunks = retrieve_relevant_chunks(user_query)\n",
    "    \n",
    "    # Augment prompt with history\n",
    "    prompt = augment_prompt_with_history(user_query, retrieved_chunks)\n",
    "    \n",
    "    # Generate response\n",
    "    bot_response = llm.invoke(prompt)\n",
    "    \n",
    "    chat_history.append({'user': question, 'bot': response})    \n",
    "    return bot_response\n",
    "\n",
    "def retrieve_relevant_chunks(user_query):\n",
    "    retriever = vectorstore.as_retriever(search_type=\"mmr\", search_kwargs={\"k\": 10})\n",
    "    return [doc.page_content for doc in retriever.invoke(user_query)]\n",
    "\n",
    "def augment_prompt_with_history(user_query, retrieved_chunks):\n",
    "    global chat_history\n",
    "    chat_history_text = format_history(chat_history)\n",
    "    context = \"\\n\\n\".join(retrieved_chunks)\n",
    "    return (\n",
    "        f\"Conversation History:\\n{chat_history_text}\\n\\n\"\n",
    "        f\"Context:\\n{context}\\n\\n\"\n",
    "        f\"User Query: {user_query}\\n\\n\"\n",
    "        f\"Answer:\"\n",
    "    )\n",
    "\n",
    "def format_history(chat_history):\n",
    "    return \"\\n\".join([f\"User: {entry['user']}\\nBot: {entry['bot']}\" for entry in chat_history])"
   ]
  },
  {
   "cell_type": "code",
   "execution_count": 284,
   "metadata": {},
   "outputs": [
    {
     "name": "stderr",
     "output_type": "stream",
     "text": [
      "2024-12-25 15:22:21,843 - INFO - HTTP Request: POST https://api.replicate.com/v1/models/meta/meta-llama-3-8b-instruct/predictions \"HTTP/1.1 201 Created\"\n",
      "2024-12-25 15:22:22,623 - INFO - HTTP Request: GET https://api.replicate.com/v1/predictions/rhpyzc7pt1rj00ckzjrtm5rh3c \"HTTP/1.1 200 OK\"\n"
     ]
    },
    {
     "data": {
      "text/plain": [
       "'Who are the speakers of this podcast'"
      ]
     },
     "execution_count": 284,
     "metadata": {},
     "output_type": "execute_result"
    },
    {
     "name": "stdout",
     "output_type": "stream",
     "text": [
      "\n",
      "\n",
      "The speakers of this podcast are:\n",
      "\n",
      "1. Neal Freyman\n",
      "2. Toby Howell\n"
     ]
    },
    {
     "name": "stderr",
     "output_type": "stream",
     "text": [
      "2024-12-25 15:22:23,212 - INFO - HTTP Request: POST https://api.replicate.com/v1/models/meta/meta-llama-3-8b-instruct/predictions \"HTTP/1.1 201 Created\"\n",
      "2024-12-25 15:22:24,376 - INFO - HTTP Request: GET https://api.replicate.com/v1/predictions/hf187q7w5hrj40ckzjrtb6w390 \"HTTP/1.1 200 OK\"\n",
      "2024-12-25 15:22:25,133 - INFO - HTTP Request: GET https://api.replicate.com/v1/predictions/hf187q7w5hrj40ckzjrtb6w390 \"HTTP/1.1 200 OK\"\n",
      "2024-12-25 15:22:25,894 - INFO - HTTP Request: GET https://api.replicate.com/v1/predictions/hf187q7w5hrj40ckzjrtb6w390 \"HTTP/1.1 200 OK\"\n",
      "2024-12-25 15:22:27,223 - INFO - HTTP Request: GET https://api.replicate.com/v1/predictions/hf187q7w5hrj40ckzjrtb6w390 \"HTTP/1.1 200 OK\"\n"
     ]
    },
    {
     "data": {
      "text/plain": [
       "'What company do they work for?'"
      ]
     },
     "execution_count": 284,
     "metadata": {},
     "output_type": "execute_result"
    },
    {
     "name": "stdout",
     "output_type": "stream",
     "text": [
      "\n",
      "\n",
      "Based on the conversation history, the speakers of this podcast are:\n",
      "\n",
      "1. Neal Freyman\n",
      "2. Toby Howell\n",
      "3. James Patterson (author)\n",
      "4. Elon Musk (tech mogul)\n",
      "5. Sam Altman (tech mogul)\n",
      "6. Mr. Beast (YouTuber)\n",
      "7. Jeff Bezos (tech mogul)\n",
      "\n",
      "Additionally, there are some mentions of other individuals, such as:\n",
      "\n",
      "1. Emily Milian (executive producer)\n",
      "2. Raven live (producer)\n",
      "3. Olivia Graham (associate producer)\n",
      "4. You Chenoa (technical director)\n",
      "5. Billy Menino (audio)\n",
      "6. Devin Emery (chief content officer)\n",
      "\n",
      "As for the company they work for, based on the conversation, it is mentioned that:\n",
      "\n",
      "* Devin Emery is the chief content officer of Morning Brew.\n",
      "* The podcast is a production of Morning Brew.\n",
      "\n",
      "So, Neal Freyman, Toby Howell, and Devin Emery work for Morning Brew.\n"
     ]
    },
    {
     "name": "stderr",
     "output_type": "stream",
     "text": [
      "2024-12-25 15:22:27,747 - INFO - HTTP Request: POST https://api.replicate.com/v1/models/meta/meta-llama-3-8b-instruct/predictions \"HTTP/1.1 201 Created\"\n",
      "2024-12-25 15:22:28,504 - INFO - HTTP Request: GET https://api.replicate.com/v1/predictions/ws0xqs0dw9rj60ckzjs8jzwbtw \"HTTP/1.1 200 OK\"\n",
      "2024-12-25 15:22:29,890 - INFO - HTTP Request: GET https://api.replicate.com/v1/predictions/ws0xqs0dw9rj60ckzjs8jzwbtw \"HTTP/1.1 200 OK\"\n"
     ]
    },
    {
     "data": {
      "text/plain": [
       "'Who are the rest of the members on the production team?'"
      ]
     },
     "execution_count": 284,
     "metadata": {},
     "output_type": "execute_result"
    },
    {
     "name": "stdout",
     "output_type": "stream",
     "text": [
      "\n",
      "\n",
      "Based on the conversation history, the rest of the members on the production team are:\n",
      "\n",
      "1. Emily Milian (executive producer)\n",
      "2. Raven live (producer)\n",
      "3. Olivia Graham (associate producer)\n",
      "4. You Chenoa (technical director)\n",
      "5. Billy Menino (audio)\n",
      "6. Devin Emery (chief content officer)\n",
      "\n",
      "These individuals are mentioned as part of the production team, but not as speakers on the podcast.\n"
     ]
    },
    {
     "name": "stderr",
     "output_type": "stream",
     "text": [
      "2024-12-25 15:22:30,395 - INFO - HTTP Request: POST https://api.replicate.com/v1/models/meta/meta-llama-3-8b-instruct/predictions \"HTTP/1.1 201 Created\"\n",
      "2024-12-25 15:22:31,219 - INFO - HTTP Request: GET https://api.replicate.com/v1/predictions/4rgae8rqvhrj20ckzjs9z03gbc \"HTTP/1.1 200 OK\"\n"
     ]
    },
    {
     "data": {
      "text/plain": [
       "'Where is hair and makeup?'"
      ]
     },
     "execution_count": 284,
     "metadata": {},
     "output_type": "execute_result"
    },
    {
     "name": "stdout",
     "output_type": "stream",
     "text": [
      "\n",
      "\n",
      "According to the conversation history, Hair and Makeup is mentioned as being \"down in Mar-A-Lago\".\n"
     ]
    }
   ],
   "source": [
    "chat_history = []\n",
    "\n",
    "question = 'Who are the speakers of this podcast'\n",
    "answer = generate_response_with_context(question)\n",
    "question\n",
    "print(answer)\n",
    "\n",
    "followup = 'What company do they work for?'\n",
    "answer = generate_response_with_context(followup)\n",
    "followup\n",
    "print(answer)\n",
    "\n",
    "followup = 'Who are the rest of the members on the production team?'\n",
    "answer = generate_response_with_context(followup)\n",
    "followup\n",
    "print(answer)\n",
    "\n",
    "followup = 'Where is hair and makeup?'\n",
    "answer = generate_response_with_context(followup)\n",
    "followup\n",
    "print(answer)"
   ]
  },
  {
   "cell_type": "code",
   "execution_count": 273,
   "metadata": {},
   "outputs": [
    {
     "data": {
      "text/plain": [
       "'who are the speakers of this podcast'"
      ]
     },
     "execution_count": 273,
     "metadata": {},
     "output_type": "execute_result"
    },
    {
     "name": "stdout",
     "output_type": "stream",
     "text": [
      "Conversation History:\n",
      "\n",
      "\n",
      "Context:\n",
      "thinking about these things, so share this pod. Give them the drone conversation time stamp and just say thoughts. I think the rest will take care of itself. Let's roll the credits. Emily Milian is our executive producer. Raven live is our producer. Olivia Graham is our associate producer. You Chenoa is our technical director. Billy Menino is on audio. Hair makeup's got a dinner down in Mar-A-Lago. Really? He's inviting anyone. Devin Emery is our chief content officer. And our show is a\n",
      "\n",
      "pick one way or the other, right? And I think the way, based off his previous statements is he wants to make DST permanent. My win over the weekend is Hot Wheels because they are on fire right now.\n",
      "\n",
      "you right here last week. The extremely popular author James Patterson handed out $500 holiday bonuses to 600 employees at independent bookstores across the country. It's a tradition he started in 2015, inviting thousands of booksellers to apply and picking hundreds of winners from the nominees. In a statement, Patterson said booksellers save lives, period. I'm happy to be able to acknowledge them and all their hard work this holiday season. I mean, it does warm the heart. James Patterson is\n",
      "\n",
      "Musk. Elon Musk already has that bromance with Trump, and there is the potential that Trump or Elon Musk could use that power to cut them out of lucrative business deals. Right. He is the other power player that CEOs are also trying to figure out how to navigate the relationship, because a lot of those CEOs could be wary that Musk could just punish his business rivals, could push them to the side. Sam Altman is obviously a big one of those. Elon Musk has repeatedly sued OpenAI, saying that it\n",
      "\n",
      "Good Morning Brew Daily Show. I'm Neal Freyman. And I'm Toby Howell. today. It's not Barbie. It's not Lego. The best selling toy in the world is. Yeah. You're going to have to wait for that then. It's a bird. It's a plane. No, it's a drone hovering over new Jersey. But in reality, it's probably a plane. It's Monday, December 16th. Let's ride. The holiday season is full of heartwarming stories of generosity and giving back. And I got another one for you right here last week. The extremely popular\n",
      "\n",
      "dual threat Neal focused on road performance, but with world famous off road capability. It's the fire and ice of cars. The Toby and Neil of cars. Okay, but who's the off road power and who's the on road cruising? I think you're giving some off road vibes these days. Could be the 5:00 shadow. If you want a taste of the finer things and the wild side, build your Range Rover Sport at Land Rover usa.com.\n",
      "\n",
      "questions, comments or feedback, send an email to Morning Brew Daily at Morning brew.com. And if you're a satisfied customer and want to help grow this podcast, share it with friends, family, and coworkers who are lacking a solid news roundup in the morning. For everyone with shares block, Toby's got our recommendation. I want you to share the podcast with someone who has a theory about the drones. I know you got an uncle or a cousin who's been thinking about these things, so share this pod.\n",
      "\n",
      "if you want to call it that. For Mr. Beast to move beyond YouTube to the streaming and TV realm. So we'll see how that goes out. I mean, I'm not gonna lie. Let's be honest. In sports, here's an awesome story. The University of Vermont will play in its first ever championship game in any sport tonight, when the Catamounts take on Marshall for the men's soccer title tonight. No disrespect to the Catamounts, but they eliminated my younger brother in his final collegiate game ever in the NCAA\n",
      "\n",
      "is our chief content officer. And our show is a production of Morning Brew. Great show. Danielle. Let's run it back tomorrow.\n",
      "\n",
      "There is a little bit of a guise of patriotism attached to it as well, without being seen as like overly partizan. So I wouldn't read too much into the fact that they're all donating exactly $1 million, because it does give you access to the events, and it is a rather normal thing to do to an incoming administration. I want to talk about one of these, tech moguls that is going to Mar-A-Lago this week, Jeff Bezos, because I think he is a good example of what can happen when the relationship with\n",
      "\n",
      "User Query: who are the speakers of this podcast\n",
      "\n",
      "Answer:\n"
     ]
    },
    {
     "name": "stderr",
     "output_type": "stream",
     "text": [
      "2024-12-25 15:13:35,863 - INFO - HTTP Request: GET https://api.replicate.com/v1/models/meta/meta-llama-3-8b-instruct \"HTTP/1.1 200 OK\"\n",
      "2024-12-25 15:13:36,587 - INFO - HTTP Request: POST https://api.replicate.com/v1/models/meta/meta-llama-3-8b-instruct/predictions \"HTTP/1.1 201 Created\"\n",
      "2024-12-25 15:13:37,763 - INFO - HTTP Request: GET https://api.replicate.com/v1/predictions/nrpyxkfk15rj40ckzjmtdb3m48 \"HTTP/1.1 200 OK\"\n",
      "2024-12-25 15:13:38,527 - INFO - HTTP Request: GET https://api.replicate.com/v1/predictions/nrpyxkfk15rj40ckzjmtdb3m48 \"HTTP/1.1 200 OK\"\n",
      "2024-12-25 15:13:39,286 - INFO - HTTP Request: GET https://api.replicate.com/v1/predictions/nrpyxkfk15rj40ckzjmtdb3m48 \"HTTP/1.1 200 OK\"\n"
     ]
    },
    {
     "name": "stdout",
     "output_type": "stream",
     "text": [
      "\n",
      "\n",
      "Based on the conversation history, the speakers of this podcast are:\n",
      "\n",
      "1. Neal Freyman\n",
      "2. Toby Howell\n",
      "3. James Patterson (author)\n",
      "4. Elon Musk (tech mogul)\n",
      "5. Sam Altman (tech mogul)\n",
      "6. Mr. Beast (YouTuber)\n",
      "7. Jeff Bezos (tech mogul)\n",
      "\n",
      "Additionally, there are some mentions of other individuals, such as:\n",
      "\n",
      "1. Emily Milian (executive producer)\n",
      "2. Raven live (producer)\n",
      "3. Olivia Graham (associate producer)\n",
      "4. You Chenoa (technical director)\n",
      "5. Billy Menino (audio)\n",
      "6. Devin Emery (chief content officer)\n",
      "\n",
      "Please note that some of these individuals may not be speakers on the podcast, but rather mentioned as part of the production team or other roles.\n"
     ]
    }
   ],
   "source": [
    "question\n",
    "chat_history = []\n",
    "\n",
    "retrieved_chunks = retrieve_relevant_chunks(question)\n",
    "augmented_prompt = augment_prompt_with_history(question, retrieved_chunks)\n",
    "print(augmented_prompt)\n",
    "response = llm.invoke(augmented_prompt)\n",
    "print(response)\n",
    "chat_history.append({'user': question, 'bot': response})"
   ]
  },
  {
   "cell_type": "code",
   "execution_count": 274,
   "metadata": {},
   "outputs": [
    {
     "name": "stdout",
     "output_type": "stream",
     "text": [
      "User: who are the speakers of this podcast\n",
      "Bot: \n",
      "\n",
      "Based on the conversation history, the speakers of this podcast are:\n",
      "\n",
      "1. Neal Freyman\n",
      "2. Toby Howell\n",
      "3. James Patterson (author)\n",
      "4. Elon Musk (tech mogul)\n",
      "5. Sam Altman (tech mogul)\n",
      "6. Mr. Beast (YouTuber)\n",
      "7. Jeff Bezos (tech mogul)\n",
      "\n",
      "Additionally, there are some mentions of other individuals, such as:\n",
      "\n",
      "1. Emily Milian (executive producer)\n",
      "2. Raven live (producer)\n",
      "3. Olivia Graham (associate producer)\n",
      "4. You Chenoa (technical director)\n",
      "5. Billy Menino (audio)\n",
      "6. Devin Emery (chief content officer)\n",
      "\n",
      "Please note that some of these individuals may not be speakers on the podcast, but rather mentioned as part of the production team or other roles.\n"
     ]
    }
   ],
   "source": [
    "print(format_history(chat_history))"
   ]
  },
  {
   "cell_type": "code",
   "execution_count": 261,
   "metadata": {},
   "outputs": [
    {
     "name": "stdout",
     "output_type": "stream",
     "text": [
      "Conversation History:\n",
      "User: who are the speakers of this podcast\n",
      "Bot: \n",
      "\n",
      "Based on the conversation history, the speakers of this podcast are:\n",
      "\n",
      "1. Neal Freyman\n",
      "2. Toby Howell\n",
      "3. James Patterson (author)\n",
      "4. Elon Musk (tech mogul)\n",
      "5. Sam Altman (tech mogul)\n",
      "6. Mr. Beast (YouTuber)\n",
      "7. Jeff Bezos (tech mogul)\n",
      "\n",
      "Additionally, there are some mentions of other individuals, such as:\n",
      "\n",
      "1. Emily Milian (executive producer)\n",
      "2. Raven live (producer)\n",
      "3. Olivia Graham (associate producer)\n",
      "4. You Chenoa (technical director)\n",
      "5. Billy Menino (audio)\n",
      "6. Devin Emery (chief content officer)\n",
      "\n",
      "Please note that some of these individuals may not be speakers on the podcast, but rather mentioned as part of the production team or other roles.\n",
      "\n",
      "Context:\n",
      "Today, America's top tech moguls are marching one by one to Mar a Lago, a pilgrimage they hope will repair a rocky relationship with president elect Trump and curry favor with the upcoming administration. Last week, it was Google's Sundar Pichai and Apple's Tim Cook making the trek from California to Palm Beach. Before Thanksgiving, it was Meta's Mark Zuckerberg, and this week, Amazon founder Jeff Bezos will have dinner with Trump. Meanwhile, meta, Amazon and OpenAI Sam Altman are writing checks\n",
      "\n",
      "dual threat Neal focused on road performance, but with world famous off road capability. It's the fire and ice of cars. The Toby and Neil of cars. Okay, but who's the off road power and who's the on road cruising? I think you're giving some off road vibes these days. Could be the 5:00 shadow. If you want a taste of the finer things and the wild side, build your Range Rover Sport at Land Rover usa.com.\n",
      "\n",
      "is our chief content officer. And our show is a production of Morning Brew. Great show. Danielle. Let's run it back tomorrow.\n",
      "\n",
      "the state, prompting US lawmakers to get more involved. US Senator Chuck Schumer called on the Department of Homeland Security to deploy a recently declassified tech that can ID and track drones back to their landing spots in an effort to get to the bottom of the sightings. As for what we do know, officials from Homeland Security say that the drones don't appear to be linked to foreign governments. While the FBI is pretty sure a lot of people have just been seeing planes, quote, many of the\n",
      "\n",
      "you right here last week. The extremely popular author James Patterson handed out $500 holiday bonuses to 600 employees at independent bookstores across the country. It's a tradition he started in 2015, inviting thousands of booksellers to apply and picking hundreds of winners from the nominees. In a statement, Patterson said booksellers save lives, period. I'm happy to be able to acknowledge them and all their hard work this holiday season. I mean, it does warm the heart. James Patterson is\n",
      "\n",
      "billion in the last quarter alone. That's four companies alphabet Amazon meta and Microsoft spent $59 billion on capital expenditures. A lot of that is going to Nvidia. A lot of that is going to Broadcom. That's about 18% of their total revenue over the quarter. So a very concentrated group of customers. You know you ever talk about having a you know a very specialized customer base. They have you know, 3 or 4 customers. So it really the fortunes depend on whether these companies continue to\n",
      "\n",
      "know, we'll see what happens with this story. I think there is a push for more transparency from federal officials to just explain, just show their work, essentially. Up next, it is our winners of the weekend. Welcome to winners of the weekend, the segment where Toby and I picked two things that cemented their spot on Santa's nice list the past couple of days. I won the pre-show gingerbread house making competition. So I get to go first. My winner is anyone who hates changing the clocks twice a\n",
      "\n",
      "get invitation to inauguration ball access to a candlelit dinner with the Trumps. And then, they also have a access to reception with the cabinet picks. So what you are seeing is paying $1 million, saying, like, I do want to have more opportunities to have FaceTime with you. And also one thing about inaugural committees is that they are pretty low stakes in terms of donations. They are seen as a very normal thing for companies to do, to seek favor. There is a little bit of a guise of patriotism\n",
      "\n",
      "Musk. Elon Musk already has that bromance with Trump, and there is the potential that Trump or Elon Musk could use that power to cut them out of lucrative business deals. Right. He is the other power player that CEOs are also trying to figure out how to navigate the relationship, because a lot of those CEOs could be wary that Musk could just punish his business rivals, could push them to the side. Sam Altman is obviously a big one of those. Elon Musk has repeatedly sued OpenAI, saying that it\n",
      "\n",
      "questions, comments or feedback, send an email to Morning Brew Daily at Morning brew.com. And if you're a satisfied customer and want to help grow this podcast, share it with friends, family, and coworkers who are lacking a solid news roundup in the morning. For everyone with shares block, Toby's got our recommendation. I want you to share the podcast with someone who has a theory about the drones. I know you got an uncle or a cousin who's been thinking about these things, so share this pod.\n",
      "\n",
      "User Query: what company do they work for?\n",
      "\n",
      "Answer:\n"
     ]
    },
    {
     "name": "stderr",
     "output_type": "stream",
     "text": [
      "2024-12-25 15:10:30,403 - INFO - HTTP Request: POST https://api.replicate.com/v1/models/meta/meta-llama-3-8b-instruct/predictions \"HTTP/1.1 201 Created\"\n",
      "2024-12-25 15:10:31,956 - INFO - HTTP Request: GET https://api.replicate.com/v1/predictions/t47c2f0vqhrj60ckzjkr7d95zg \"HTTP/1.1 200 OK\"\n",
      "2024-12-25 15:10:32,715 - INFO - HTTP Request: GET https://api.replicate.com/v1/predictions/t47c2f0vqhrj60ckzjkr7d95zg \"HTTP/1.1 200 OK\"\n",
      "2024-12-25 15:10:33,476 - INFO - HTTP Request: GET https://api.replicate.com/v1/predictions/t47c2f0vqhrj60ckzjkr7d95zg \"HTTP/1.1 200 OK\"\n",
      "2024-12-25 15:10:34,244 - INFO - HTTP Request: GET https://api.replicate.com/v1/predictions/t47c2f0vqhrj60ckzjkr7d95zg \"HTTP/1.1 200 OK\"\n",
      "2024-12-25 15:10:35,005 - INFO - HTTP Request: GET https://api.replicate.com/v1/predictions/t47c2f0vqhrj60ckzjkr7d95zg \"HTTP/1.1 200 OK\"\n"
     ]
    },
    {
     "name": "stdout",
     "output_type": "stream",
     "text": [
      "\n",
      "\n",
      "Based on the conversation history, the speakers of this podcast are:\n",
      "\n",
      "1. Neal Freyman\n",
      "2. Toby Howell\n",
      "3. James Patterson (author)\n",
      "4. Elon Musk (tech mogul)\n",
      "5. Sam Altman (tech mogul)\n",
      "6. Mr. Beast (YouTuber)\n",
      "7. Jeff Bezos (tech mogul)\n",
      "\n",
      "Additionally, there are some mentions of other individuals, such as:\n",
      "\n",
      "1. Emily Milian (executive producer)\n",
      "2. Raven live (producer)\n",
      "3. Olivia Graham (associate producer)\n",
      "4. You Chenoa (technical director)\n",
      "5. Billy Menino (audio)\n",
      "6. Devin Emery (chief content officer)\n",
      "\n",
      "As for the company they work for, based on the conversation, it is mentioned that:\n",
      "\n",
      "* Devin Emery is the chief content officer of Morning Brew.\n",
      "* The podcast is a production of Morning Brew.\n",
      "\n",
      "So, Neal Freyman, Toby Howell, and Devin Emery work for Morning Brew.\n"
     ]
    }
   ],
   "source": [
    "followup_question = 'what company do they work for?'\n",
    "retrieved_chunks = retrieve_relevant_chunks(followup_question)\n",
    "augmented_prompt = augment_prompt_with_history(followup_question, retrieved_chunks)\n",
    "print(augmented_prompt)\n",
    "response = llm.invoke(augmented_prompt)\n",
    "print(response)\n",
    "chat_history.append({'user': followup_question, 'bot': response})"
   ]
  },
  {
   "cell_type": "code",
   "execution_count": 262,
   "metadata": {},
   "outputs": [
    {
     "name": "stdout",
     "output_type": "stream",
     "text": [
      "Conversation History:\n",
      "User: who are the speakers of this podcast\n",
      "Bot: \n",
      "\n",
      "Based on the conversation history, the speakers of this podcast are:\n",
      "\n",
      "1. Neal Freyman\n",
      "2. Toby Howell\n",
      "3. James Patterson (author)\n",
      "4. Elon Musk (tech mogul)\n",
      "5. Sam Altman (tech mogul)\n",
      "6. Mr. Beast (YouTuber)\n",
      "7. Jeff Bezos (tech mogul)\n",
      "\n",
      "Additionally, there are some mentions of other individuals, such as:\n",
      "\n",
      "1. Emily Milian (executive producer)\n",
      "2. Raven live (producer)\n",
      "3. Olivia Graham (associate producer)\n",
      "4. You Chenoa (technical director)\n",
      "5. Billy Menino (audio)\n",
      "6. Devin Emery (chief content officer)\n",
      "\n",
      "Please note that some of these individuals may not be speakers on the podcast, but rather mentioned as part of the production team or other roles.\n",
      "User: what company do they work for?\n",
      "Bot: \n",
      "\n",
      "Based on the conversation history, the speakers of this podcast are:\n",
      "\n",
      "1. Neal Freyman\n",
      "2. Toby Howell\n",
      "3. James Patterson (author)\n",
      "4. Elon Musk (tech mogul)\n",
      "5. Sam Altman (tech mogul)\n",
      "6. Mr. Beast (YouTuber)\n",
      "7. Jeff Bezos (tech mogul)\n",
      "\n",
      "Additionally, there are some mentions of other individuals, such as:\n",
      "\n",
      "1. Emily Milian (executive producer)\n",
      "2. Raven live (producer)\n",
      "3. Olivia Graham (associate producer)\n",
      "4. You Chenoa (technical director)\n",
      "5. Billy Menino (audio)\n",
      "6. Devin Emery (chief content officer)\n",
      "\n",
      "As for the company they work for, based on the conversation, it is mentioned that:\n",
      "\n",
      "* Devin Emery is the chief content officer of Morning Brew.\n",
      "* The podcast is a production of Morning Brew.\n",
      "\n",
      "So, Neal Freyman, Toby Howell, and Devin Emery work for Morning Brew.\n",
      "\n",
      "Context:\n",
      "dual threat Neal focused on road performance, but with world famous off road capability. It's the fire and ice of cars. The Toby and Neil of cars. Okay, but who's the off road power and who's the on road cruising? I think you're giving some off road vibes these days. Could be the 5:00 shadow. If you want a taste of the finer things and the wild side, build your Range Rover Sport at Land Rover usa.com.\n",
      "\n",
      "There is a little bit of a guise of patriotism attached to it as well, without being seen as like overly partizan. So I wouldn't read too much into the fact that they're all donating exactly $1 million, because it does give you access to the events, and it is a rather normal thing to do to an incoming administration. I want to talk about one of these, tech moguls that is going to Mar-A-Lago this week, Jeff Bezos, because I think he is a good example of what can happen when the relationship with\n",
      "\n",
      "is our chief content officer. And our show is a production of Morning Brew. Great show. Danielle. Let's run it back tomorrow.\n",
      "\n",
      "in his final collegiate game ever in the NCAA tournament, so I forever have a beef with them. So to see them doing well is a little bittersweet for me. But congrats to the Catamounts! That is an awesome achievement and I will be tuning in to watch that. Okay, that is all the time we have. Thanks so much for starting your morning with us and have a wonderful start to the week. It's officially let's circle back in 2025 season in your inbox for any questions, comments or feedback, send an email to\n",
      "\n",
      "I can't see this. It just doesn't seem like there's been much buzz about it. And then Squid Games, I can't believe, are still doing well. Mr. Beast. I know it's Mr. Beast, but still like it feels like Squid Games cultural relevance has passed. They did release another season and Squid Games on YouTube that what he recreated did do very well. But I don't know. It's hard for me to get excited. It's a two. It's a big, big deal for the creator economy, if you want to call it that. For Mr. Beast to\n",
      "\n",
      "toy forces and I don't know what is, it's Monday, and as per tradition here are the events you need to know about for the week ahead. The fed is holding its final meeting of the year on Wednesday, and it's overwhelmingly expected to cut rates. A standard quarter percentage point, the third rate cut this year. Well, that's pretty much locked in. The big question mark is its rate path. In 2025. Inflation is proving to be more stubborn than anticipated, hovering above that 2% target. And Trump's\n",
      "\n",
      "you right here last week. The extremely popular author James Patterson handed out $500 holiday bonuses to 600 employees at independent bookstores across the country. It's a tradition he started in 2015, inviting thousands of booksellers to apply and picking hundreds of winners from the nominees. In a statement, Patterson said booksellers save lives, period. I'm happy to be able to acknowledge them and all their hard work this holiday season. I mean, it does warm the heart. James Patterson is\n",
      "\n",
      "centers? You know, Broadcom is not a name that a lot of people know off the top of their heads, but they will soon. The last time I will say I thought about Broadcom was six years ago in 2018. And that was when Broadcom tried to buy Qualcomm for $120 billion. It would be one of the biggest, if not the biggest tech acquisitions of all time. Trump speaking of Trump, he blocked that deal from going forward because at the time Broadcom was based in Singapore and it was blocked over national\n",
      "\n",
      "Musk. Elon Musk already has that bromance with Trump, and there is the potential that Trump or Elon Musk could use that power to cut them out of lucrative business deals. Right. He is the other power player that CEOs are also trying to figure out how to navigate the relationship, because a lot of those CEOs could be wary that Musk could just punish his business rivals, could push them to the side. Sam Altman is obviously a big one of those. Elon Musk has repeatedly sued OpenAI, saying that it\n",
      "\n",
      "know, we'll see what happens with this story. I think there is a push for more transparency from federal officials to just explain, just show their work, essentially. Up next, it is our winners of the weekend. Welcome to winners of the weekend, the segment where Toby and I picked two things that cemented their spot on Santa's nice list the past couple of days. I won the pre-show gingerbread house making competition. So I get to go first. My winner is anyone who hates changing the clocks twice a\n",
      "\n",
      "User Query: who are the rest of the members on the team\n",
      "\n",
      "Answer:\n"
     ]
    },
    {
     "name": "stderr",
     "output_type": "stream",
     "text": [
      "2024-12-25 15:10:40,865 - INFO - HTTP Request: POST https://api.replicate.com/v1/models/meta/meta-llama-3-8b-instruct/predictions \"HTTP/1.1 201 Created\"\n",
      "2024-12-25 15:10:42,045 - INFO - HTTP Request: GET https://api.replicate.com/v1/predictions/14snqbj4enrj60ckzjktz9wefg \"HTTP/1.1 200 OK\"\n",
      "2024-12-25 15:10:42,807 - INFO - HTTP Request: GET https://api.replicate.com/v1/predictions/14snqbj4enrj60ckzjktz9wefg \"HTTP/1.1 200 OK\"\n",
      "2024-12-25 15:10:43,659 - INFO - HTTP Request: GET https://api.replicate.com/v1/predictions/14snqbj4enrj60ckzjktz9wefg \"HTTP/1.1 200 OK\"\n",
      "2024-12-25 15:10:44,458 - INFO - HTTP Request: GET https://api.replicate.com/v1/predictions/14snqbj4enrj60ckzjktz9wefg \"HTTP/1.1 200 OK\"\n",
      "2024-12-25 15:10:45,225 - INFO - HTTP Request: GET https://api.replicate.com/v1/predictions/14snqbj4enrj60ckzjktz9wefg \"HTTP/1.1 200 OK\"\n",
      "2024-12-25 15:10:46,085 - INFO - HTTP Request: GET https://api.replicate.com/v1/predictions/14snqbj4enrj60ckzjktz9wefg \"HTTP/1.1 200 OK\"\n",
      "2024-12-25 15:10:47,523 - INFO - HTTP Request: GET https://api.replicate.com/v1/predictions/14snqbj4enrj60ckzjktz9wefg \"HTTP/1.1 200 OK\"\n"
     ]
    },
    {
     "name": "stdout",
     "output_type": "stream",
     "text": [
      "\n",
      "\n",
      "Based on the conversation history, the speakers of this podcast are:\n",
      "\n",
      "1. Neal Freyman\n",
      "2. Toby Howell\n",
      "3. James Patterson (author)\n",
      "4. Elon Musk (tech mogul)\n",
      "5. Sam Altman (tech mogul)\n",
      "6. Mr. Beast (YouTuber)\n",
      "7. Jeff Bezos (tech mogul)\n",
      "\n",
      "Additionally, there are some mentions of other individuals, such as:\n",
      "\n",
      "1. Emily Milian (executive producer)\n",
      "2. Raven live (producer)\n",
      "3. Olivia Graham (associate producer)\n",
      "4. You Chenoa (technical director)\n",
      "5. Billy Menino (audio)\n",
      "6. Devin Emery (chief content officer)\n",
      "\n",
      "As for the company they work for, based on the conversation, it is mentioned that:\n",
      "\n",
      "* Devin Emery is the chief content officer of Morning Brew.\n",
      "* The podcast is a production of Morning Brew.\n",
      "\n",
      "So, Neal Freyman, Toby Howell, and Devin Emery work for Morning Brew.\n",
      "\n",
      "The rest of the members on the team are:\n",
      "\n",
      "* Emily Milian (executive producer)\n",
      "* Raven live (producer)\n",
      "* Olivia Graham (associate producer)\n",
      "* You Chenoa (technical director)\n",
      "* Billy Menino (audio)\n",
      "\n",
      "These individuals are part of the production team, but not necessarily speakers on the podcast.\n"
     ]
    }
   ],
   "source": [
    "followup_question = 'who are the rest of the members on the team'\n",
    "retrieved_chunks = retrieve_relevant_chunks(followup_question)\n",
    "augmented_prompt = augment_prompt_with_history(followup_question, retrieved_chunks)\n",
    "print(augmented_prompt)\n",
    "response = llm.invoke(augmented_prompt)\n",
    "print(response)\n",
    "chat_history.append({'user': followup_question, 'bot': response})"
   ]
  },
  {
   "cell_type": "code",
   "execution_count": 263,
   "metadata": {},
   "outputs": [
    {
     "name": "stdout",
     "output_type": "stream",
     "text": [
      "Conversation History:\n",
      "User: who are the speakers of this podcast\n",
      "Bot: \n",
      "\n",
      "Based on the conversation history, the speakers of this podcast are:\n",
      "\n",
      "1. Neal Freyman\n",
      "2. Toby Howell\n",
      "3. James Patterson (author)\n",
      "4. Elon Musk (tech mogul)\n",
      "5. Sam Altman (tech mogul)\n",
      "6. Mr. Beast (YouTuber)\n",
      "7. Jeff Bezos (tech mogul)\n",
      "\n",
      "Additionally, there are some mentions of other individuals, such as:\n",
      "\n",
      "1. Emily Milian (executive producer)\n",
      "2. Raven live (producer)\n",
      "3. Olivia Graham (associate producer)\n",
      "4. You Chenoa (technical director)\n",
      "5. Billy Menino (audio)\n",
      "6. Devin Emery (chief content officer)\n",
      "\n",
      "Please note that some of these individuals may not be speakers on the podcast, but rather mentioned as part of the production team or other roles.\n",
      "User: what company do they work for?\n",
      "Bot: \n",
      "\n",
      "Based on the conversation history, the speakers of this podcast are:\n",
      "\n",
      "1. Neal Freyman\n",
      "2. Toby Howell\n",
      "3. James Patterson (author)\n",
      "4. Elon Musk (tech mogul)\n",
      "5. Sam Altman (tech mogul)\n",
      "6. Mr. Beast (YouTuber)\n",
      "7. Jeff Bezos (tech mogul)\n",
      "\n",
      "Additionally, there are some mentions of other individuals, such as:\n",
      "\n",
      "1. Emily Milian (executive producer)\n",
      "2. Raven live (producer)\n",
      "3. Olivia Graham (associate producer)\n",
      "4. You Chenoa (technical director)\n",
      "5. Billy Menino (audio)\n",
      "6. Devin Emery (chief content officer)\n",
      "\n",
      "As for the company they work for, based on the conversation, it is mentioned that:\n",
      "\n",
      "* Devin Emery is the chief content officer of Morning Brew.\n",
      "* The podcast is a production of Morning Brew.\n",
      "\n",
      "So, Neal Freyman, Toby Howell, and Devin Emery work for Morning Brew.\n",
      "User: who are the rest of the members on the team\n",
      "Bot: \n",
      "\n",
      "Based on the conversation history, the speakers of this podcast are:\n",
      "\n",
      "1. Neal Freyman\n",
      "2. Toby Howell\n",
      "3. James Patterson (author)\n",
      "4. Elon Musk (tech mogul)\n",
      "5. Sam Altman (tech mogul)\n",
      "6. Mr. Beast (YouTuber)\n",
      "7. Jeff Bezos (tech mogul)\n",
      "\n",
      "Additionally, there are some mentions of other individuals, such as:\n",
      "\n",
      "1. Emily Milian (executive producer)\n",
      "2. Raven live (producer)\n",
      "3. Olivia Graham (associate producer)\n",
      "4. You Chenoa (technical director)\n",
      "5. Billy Menino (audio)\n",
      "6. Devin Emery (chief content officer)\n",
      "\n",
      "As for the company they work for, based on the conversation, it is mentioned that:\n",
      "\n",
      "* Devin Emery is the chief content officer of Morning Brew.\n",
      "* The podcast is a production of Morning Brew.\n",
      "\n",
      "So, Neal Freyman, Toby Howell, and Devin Emery work for Morning Brew.\n",
      "\n",
      "The rest of the members on the team are:\n",
      "\n",
      "* Emily Milian (executive producer)\n",
      "* Raven live (producer)\n",
      "* Olivia Graham (associate producer)\n",
      "* You Chenoa (technical director)\n",
      "* Billy Menino (audio)\n",
      "\n",
      "These individuals are part of the production team, but not necessarily speakers on the podcast.\n",
      "\n",
      "Context:\n",
      "maybe it's subsidized by this subscription plan that some people are talking about. One, fun story about this, the Mattel toy umbrella, whatever you want to call it. The connection between Barbie and Hot Wheels runs very deep because Hot Wheels creator Elliott Handler was married to the woman behind Barbie, Ruth Handler. If that isn't fate, or if that isn't just an aligning of these\n",
      "\n",
      "rhythm, because getting that sunlight. Anyone who listens to, you know, the Andrew Huberman pod knows that daylight exposure to sunlight exposure is probably good for you, provides a better night's sleep because it gets you on the screen with rhythm. But also more sunlight in the evenings is probably good for your mental health as well, because no one likes it being dark when you when you leave work every day. So for every argument for one side of the equation, some people have another argument\n",
      "\n",
      "thinking about these things, so share this pod. Give them the drone conversation time stamp and just say thoughts. I think the rest will take care of itself. Let's roll the credits. Emily Milian is our executive producer. Raven live is our producer. Olivia Graham is our associate producer. You Chenoa is our technical director. Billy Menino is on audio. Hair makeup's got a dinner down in Mar-A-Lago. Really? He's inviting anyone. Devin Emery is our chief content officer. And our show is a\n",
      "\n",
      "million. Mufasa, the prequel to 2019 live action Lion King, arrives in theaters on Friday. And then, if you want to impress your film major friends, go see Oscar contender The Brutal List starring Adrien Brody, also out on Friday. I don't know, I mean, the only one I'm interested in is the brutalist because The Lion King prequel I just haven't seen much buzz about. Even though 2019 Lion King grossed $1.7 billion worldwide, that is a gigantic number. I can't see this. It just doesn't seem like\n",
      "\n",
      "these independent booksellers. Sometimes you just have to tip your cap and say, that is a good deed. Now, a word from our sponsor, the Range Rover Sport. That's right Neil, we're finishing off the year in style. Style is a great word for it because the new Range Rover Sport oozes class. Each model offers a sophisticated take on sporting luxury, so you can cruise in style but also get a little adventurous with its off roading capabilities. It's a dual threat Neal focused on road performance, but\n",
      "\n",
      "chip if they do go into effect and jack up prices, that's when the situation becomes a little murky. Because how can you go ahead with rate cuts if you see inflation starting to creep back in. Probably camp baby. It's cold outside. And if you plan on hunkering down, there's plenty to watch on the screen, big and small, Mr. Beast Squid Game inspired a competition show beast games hits Amazon Prime Video on Thursday, offering a grand prize of $5 million. Mufasa, the prequel to 2019 live action\n",
      "\n",
      "from federal officials, saying they weren't being transparent and that they should in their public communication, just compare this to a crisis CEO moment that you want to be as transparent as possible. Explain your reasoning, because right now the Pentagon and the FBI are saying, guys, it's not a big deal. They're everything's legal. They are planes. You're making all this up. That's just like, not a good community. Like a good, effective communication strategy. So senators and other law,\n",
      "\n",
      "business impact, for Amazon because of that rocky relationship. So now you're seeing Bezos make the trek to Mar-A-Lago. He moved to South Florida. Reportedly, he's become friends with Jared and Ivanka down there, and he's hoping to make them not make amends because he probably thinks he didn't do anything wrong. But, trying to trying to reestablish that relationship because the one thing all these guys have in common is they're catching up to Elon Musk. Elon Musk already has that bromance with\n",
      "\n",
      "know, we'll see what happens with this story. I think there is a push for more transparency from federal officials to just explain, just show their work, essentially. Up next, it is our winners of the weekend. Welcome to winners of the weekend, the segment where Toby and I picked two things that cemented their spot on Santa's nice list the past couple of days. I won the pre-show gingerbread house making competition. So I get to go first. My winner is anyone who hates changing the clocks twice a\n",
      "\n",
      "affair with cars. It really does. I do think you can't overlook price either, because selling for a $1.25 a piece, that's a big draw in an inflationary environment, especially if you think if you actually do the math, the toys cost less today than they did in 1968. They retailed for about 69 to $0.89 back in the 60s and 70s. But that's roughly 6 to $8 in today's dollars. So it's one I want to know where are they making these? I know their level of craftsmanship cannot be right. There has been a\n",
      "\n",
      "User Query: where is hair and makeup?\n",
      "\n",
      "Answer:\n"
     ]
    },
    {
     "name": "stderr",
     "output_type": "stream",
     "text": [
      "2024-12-25 15:10:53,517 - INFO - HTTP Request: POST https://api.replicate.com/v1/models/meta/meta-llama-3-8b-instruct/predictions \"HTTP/1.1 201 Created\"\n",
      "2024-12-25 15:10:54,849 - INFO - HTTP Request: GET https://api.replicate.com/v1/predictions/cjgcysvnzxrj40ckzjkvqdw9jm \"HTTP/1.1 200 OK\"\n"
     ]
    },
    {
     "name": "stdout",
     "output_type": "stream",
     "text": [
      "\n",
      "\n",
      "According to the conversation history, Hair and Makeup is mentioned as being down in Mar-A-Lago.\n"
     ]
    }
   ],
   "source": [
    "followup_question = \"where is hair and makeup?\"\n",
    "retrieved_chunks = retrieve_relevant_chunks(followup_question)\n",
    "augmented_prompt = augment_prompt_with_history(followup_question, retrieved_chunks)\n",
    "print(augmented_prompt)\n",
    "response = llm.invoke(augmented_prompt)\n",
    "print(response)\n",
    "chat_history.append({'user': followup_question, 'bot': response})"
   ]
  }
 ],
 "metadata": {
  "kernelspec": {
   "display_name": "venv",
   "language": "python",
   "name": "python3"
  },
  "language_info": {
   "codemirror_mode": {
    "name": "ipython",
    "version": 3
   },
   "file_extension": ".py",
   "mimetype": "text/x-python",
   "name": "python",
   "nbconvert_exporter": "python",
   "pygments_lexer": "ipython3",
   "version": "3.10.11"
  }
 },
 "nbformat": 4,
 "nbformat_minor": 2
}
