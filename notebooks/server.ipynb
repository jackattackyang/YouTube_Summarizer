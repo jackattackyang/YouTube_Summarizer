{
 "cells": [
  {
   "cell_type": "code",
   "execution_count": 1,
   "metadata": {},
   "outputs": [],
   "source": [
    "%load_ext autoreload\n",
    "%autoreload 2\n",
    "from IPython.core.interactiveshell import InteractiveShell\n",
    "InteractiveShell.ast_node_interactivity = \"all\"\n",
    "\n",
    "from utils.helpers import md"
   ]
  },
  {
   "cell_type": "code",
   "execution_count": 2,
   "metadata": {},
   "outputs": [],
   "source": [
    "# start backend server in terminal\n",
    "# python api/flask_app.py"
   ]
  },
  {
   "cell_type": "code",
   "execution_count": 28,
   "metadata": {},
   "outputs": [
    {
     "data": {
      "text/plain": [
       "{'response': '\\n\\nHere is the summary of the video:\\n\\n**Title:** Tech CEOs Charm Trump With Big Bucks\\n\\n**High level summary:** The video discusses various news topics, including tech CEOs donating to Trump, Broadcom\\'s rise to $1 trillion market cap, drones flying over New Jersey, and Hot Wheels\\' success.\\n\\n**Chapter 1: Patterson bookstore bonus extravaganza (00:00 - 2:15)**\\n\\n* James Patterson, author, handed out $500 holiday bonuses to 600 employees at independent bookstores across the country.\\n* Patterson\\'s books have sold over 425 million copies, with a total income of $700 million over the last decade.\\n\\n**Chapter 2: Tech CEOs donate to Trump (2:15 - 6:40)**\\n\\n* Tech moguls, including Google\\'s Sundar Pichai, Apple\\'s Tim Cook, Meta\\'s Mark Zuckerberg, and Amazon\\'s Jeff Bezos, are donating to Trump\\'s inaugural fund.\\n* The donations are seen as a way to curry favor with the incoming administration and ensure access to events and receptions.\\n\\n**Chapter 3: Broadcom quietly cashing in (6:40 - 10:45)**\\n\\n* Broadcom, a chipmaker, has reported a breakout fourth-quarter earnings, pushing its stock to $1 trillion market cap.\\n* The company\\'s AI hardware business has seen significant growth, with revenue up 220% this year.\\n\\n**Chapter 4: What\\'s up with drones?? (10:45 - 15:10)**\\n\\n* Drones have been spotted flying over New Jersey, with some sightings reported in Connecticut, New York, and Maryland.\\n* The FBI has said that most reported drone sightings are actually planes, but some lawmakers are calling for more transparency from federal officials.\\n\\n**Chapter 5: Hot Wheels lead the way (15:10 - 18:30)**\\n\\n* Hot Wheels, a 56-year-old brand, is the best-selling toy in the world, with sales growing 14% to reach nearly $1.5 billion last year.\\n* The brand\\'s success can be attributed to its affordability, nostalgia, and collector scene.\\n\\n**Chapter 6: Week Ahead (18:30 - 21:30)**\\n\\n* The Federal Reserve is holding its final meeting of the year, with a rate cut expected.\\n* Other notable events include the release of Mr. Beast\\'s competition show \"Beast Games\" on Amazon Prime Video and the prequel to \"The Lion King\" in theaters.'}"
      ]
     },
     "execution_count": 28,
     "metadata": {},
     "output_type": "execute_result"
    }
   ],
   "source": [
    "import requests\n",
    "\n",
    "BACKEND_URL = \"http://127.0.0.1:5001/\"\n",
    "youtube_url = \"https://www.youtube.com/watch?v=QlUcyaXiXPE&ab_channel=MorningBrewDaily\"\n",
    "\n",
    "response = requests.post(BACKEND_URL, json={\"youtube_url\": youtube_url})\n",
    "result = response.json()\n",
    "result"
   ]
  },
  {
   "cell_type": "code",
   "execution_count": 32,
   "metadata": {},
   "outputs": [
    {
     "data": {
      "text/plain": [
       "{'response': '\\n\\nBased on the provided context, the speakers mentioned are:\\n\\n1. Neal Freyman\\n2. Toby Howell\\n3. James Patterson\\n4. Elon Musk\\n5. Sam Altman\\n6. Devin Emery'}"
      ]
     },
     "execution_count": 32,
     "metadata": {},
     "output_type": "execute_result"
    }
   ],
   "source": [
    "import requests\n",
    "\n",
    "BACKEND_URL = \"http://127.0.0.1:5001/\"\n",
    "user_question = 'Who are the speakers'\n",
    "response = requests.post(f\"{BACKEND_URL}/qa\", json={\"user_question\": user_question})\n",
    "result = response.json()\n",
    "result"
   ]
  },
  {
   "cell_type": "markdown",
   "metadata": {},
   "source": [
    "## MCP National Weather Service API"
   ]
  },
  {
   "cell_type": "code",
   "execution_count": null,
   "metadata": {},
   "outputs": [],
   "source": [
    "NWS_API_BASE = \"https://api.weather.gov\"\n"
   ]
  }
 ],
 "metadata": {
  "kernelspec": {
   "display_name": "venv",
   "language": "python",
   "name": "python3"
  },
  "language_info": {
   "codemirror_mode": {
    "name": "ipython",
    "version": 3
   },
   "file_extension": ".py",
   "mimetype": "text/x-python",
   "name": "python",
   "nbconvert_exporter": "python",
   "pygments_lexer": "ipython3",
   "version": "3.10.11"
  }
 },
 "nbformat": 4,
 "nbformat_minor": 2
}
