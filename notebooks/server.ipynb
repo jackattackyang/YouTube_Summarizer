{
 "cells": [
  {
   "cell_type": "code",
   "execution_count": 1,
   "metadata": {},
   "outputs": [],
   "source": [
    "%load_ext autoreload\n",
    "%autoreload 2\n",
    "from IPython.core.interactiveshell import InteractiveShell\n",
    "InteractiveShell.ast_node_interactivity = \"all\"\n",
    "\n",
    "from utils.helpers import md"
   ]
  },
  {
   "cell_type": "code",
   "execution_count": 2,
   "metadata": {},
   "outputs": [],
   "source": [
    "# start backend server in terminal\n",
    "# python api/flask_app.py"
   ]
  },
  {
   "cell_type": "code",
   "execution_count": 4,
   "metadata": {},
   "outputs": [
    {
     "data": {
      "text/plain": [
       "{'session_id': '5d0c6c0d-548f-4c1c-a479-7846f584ab59'}"
      ]
     },
     "execution_count": 4,
     "metadata": {},
     "output_type": "execute_result"
    }
   ],
   "source": [
    "import requests\n",
    "\n",
    "BACKEND_URL = \"http://127.0.0.1:5001/\"\n",
    "\n",
    "response = requests.post(f\"{BACKEND_URL}/create_session\")\n",
    "result = response.json()\n",
    "session_id = result['session_id']\n",
    "result"
   ]
  },
  {
   "cell_type": "code",
   "execution_count": 2,
   "metadata": {},
   "outputs": [
    {
     "data": {
      "text/plain": [
       "{'detail': [{'type': 'missing',\n",
       "   'loc': ['body', 'session_id'],\n",
       "   'msg': 'Field required',\n",
       "   'input': {'youtube_url': 'https://www.youtube.com/watch?v=QlUcyaXiXPE&ab_channel=MorningBrewDaily'}}]}"
      ]
     },
     "execution_count": 2,
     "metadata": {},
     "output_type": "execute_result"
    }
   ],
   "source": [
    "import requests\n",
    "\n",
    "BACKEND_URL = \"http://127.0.0.1:5001/\"\n",
    "youtube_url = \"https://www.youtube.com/watch?v=QlUcyaXiXPE&ab_channel=MorningBrewDaily\"\n",
    "\n",
    "response = requests.post(f\"{BACKEND_URL}/summarize\", \n",
    "    json={\"youtube_url\": youtube_url\n",
    "    })\n",
    "result = response.json()\n",
    "result"
   ]
  },
  {
   "cell_type": "code",
   "execution_count": 32,
   "metadata": {},
   "outputs": [
    {
     "data": {
      "text/plain": [
       "{'response': '\\n\\nBased on the provided context, the speakers mentioned are:\\n\\n1. Neal Freyman\\n2. Toby Howell\\n3. James Patterson\\n4. Elon Musk\\n5. Sam Altman\\n6. Devin Emery'}"
      ]
     },
     "execution_count": 32,
     "metadata": {},
     "output_type": "execute_result"
    }
   ],
   "source": [
    "import requests\n",
    "\n",
    "BACKEND_URL = \"http://127.0.0.1:5001/\"\n",
    "user_question = 'Who are the speakers'\n",
    "response = requests.post(f\"{BACKEND_URL}/qa\", json={\"user_question\": user_question})\n",
    "result = response.json()\n",
    "result"
   ]
  },
  {
   "cell_type": "markdown",
   "metadata": {},
   "source": [
    "## MCP National Weather Service API"
   ]
  },
  {
   "cell_type": "code",
   "execution_count": null,
   "metadata": {},
   "outputs": [],
   "source": [
    "NWS_API_BASE = \"https://api.weather.gov\"\n"
   ]
  }
 ],
 "metadata": {
  "kernelspec": {
   "display_name": "venv",
   "language": "python",
   "name": "python3"
  },
  "language_info": {
   "codemirror_mode": {
    "name": "ipython",
    "version": 3
   },
   "file_extension": ".py",
   "mimetype": "text/x-python",
   "name": "python",
   "nbconvert_exporter": "python",
   "pygments_lexer": "ipython3",
   "version": "3.10.11"
  }
 },
 "nbformat": 4,
 "nbformat_minor": 2
}
